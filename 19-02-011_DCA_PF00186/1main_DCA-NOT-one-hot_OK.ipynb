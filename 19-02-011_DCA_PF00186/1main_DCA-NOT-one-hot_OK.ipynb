{
 "cells": [
  {
   "cell_type": "code",
   "execution_count": 1,
   "metadata": {},
   "outputs": [],
   "source": [
    "import sys\n",
    "import numpy as np\n",
    "from scipy import linalg\n",
    "from scipy.spatial import distance\n",
    "import matplotlib.pyplot as plt"
   ]
  },
  {
   "cell_type": "code",
   "execution_count": 2,
   "metadata": {},
   "outputs": [],
   "source": [
    "np.random.seed(1)\n",
    "s0 = np.loadtxt('s0_PF00186.txt').astype(int)"
   ]
  },
  {
   "cell_type": "code",
   "execution_count": 3,
   "metadata": {},
   "outputs": [],
   "source": [
    "q = 21\n",
    "theta=0.2\n",
    "pseudo_weight=0.5\n",
    "\n",
    "l,n = s0.shape\n",
    "mx = np.full(n,q)"
   ]
  },
  {
   "cell_type": "code",
   "execution_count": 4,
   "metadata": {},
   "outputs": [
    {
     "data": {
      "text/plain": [
       "(6734, 133)"
      ]
     },
     "execution_count": 4,
     "metadata": {},
     "output_type": "execute_result"
    }
   ],
   "source": [
    "s0.shape"
   ]
  },
  {
   "cell_type": "code",
   "execution_count": 5,
   "metadata": {},
   "outputs": [],
   "source": [
    "# hamming distance\n",
    "dst = distance.squareform(distance.pdist(s0, 'hamming'))\n",
    "W = 1./(1+(dst < theta).sum(axis=1).astype(float))\n",
    "np.savetxt('ma.dat',W,fmt='% f')\n",
    "Meff = W.sum()"
   ]
  },
  {
   "cell_type": "code",
   "execution_count": 6,
   "metadata": {},
   "outputs": [
    {
     "name": "stdout",
     "output_type": "stream",
     "text": [
      "2588.7662702035\n"
     ]
    }
   ],
   "source": [
    "print(Meff)"
   ]
  },
  {
   "cell_type": "code",
   "execution_count": 7,
   "metadata": {},
   "outputs": [],
   "source": [
    "# Pi_true, Pij_true:\n",
    "Pi_true = np.zeros((n,q))\n",
    "for t in range(l):\n",
    "    for i in range(n):\n",
    "        Pi_true[i,s0[t,i]] = Pi_true[i,s0[t,i]] + W[t]\n",
    "\n",
    "Pi_true = Pi_true/Meff    "
   ]
  },
  {
   "cell_type": "code",
   "execution_count": 8,
   "metadata": {},
   "outputs": [],
   "source": [
    "np.savetxt('Pi_true.dat',Pi_true,fmt='% f')"
   ]
  },
  {
   "cell_type": "code",
   "execution_count": 9,
   "metadata": {
    "scrolled": false
   },
   "outputs": [
    {
     "name": "stdout",
     "output_type": "stream",
     "text": [
      "[1. 1. 1. 1. 1. 1. 1. 1. 1. 1. 1. 1. 1. 1. 1. 1. 1. 1. 1. 1. 1. 1. 1. 1.\n",
      " 1. 1. 1. 1. 1. 1. 1. 1. 1. 1. 1. 1. 1. 1. 1. 1. 1. 1. 1. 1. 1. 1. 1. 1.\n",
      " 1. 1. 1. 1. 1. 1. 1. 1. 1. 1. 1. 1. 1. 1. 1. 1. 1. 1. 1. 1. 1. 1. 1. 1.\n",
      " 1. 1. 1. 1. 1. 1. 1. 1. 1. 1. 1. 1. 1. 1. 1. 1. 1. 1. 1. 1. 1. 1. 1. 1.\n",
      " 1. 1. 1. 1. 1. 1. 1. 1. 1. 1. 1. 1. 1. 1. 1. 1. 1. 1. 1. 1. 1. 1. 1. 1.\n",
      " 1. 1. 1. 1. 1. 1. 1. 1. 1. 1. 1. 1. 1.]\n"
     ]
    }
   ],
   "source": [
    "Pi_sum = Pi_true.sum(axis=1)\n",
    "print(Pi_sum)"
   ]
  },
  {
   "cell_type": "code",
   "execution_count": 10,
   "metadata": {},
   "outputs": [],
   "source": [
    "Pij_true = np.zeros((n,n,q,q))\n",
    "for t in range(l):\n",
    "    for i in range(n-1):\n",
    "        for j in range(i+1,n):\n",
    "            Pij_true[i,j,s0[t,i],s0[t,j]] = Pij_true[i,j,s0[t,i],s0[t,j]] + W[t]\n",
    "            Pij_true[j,i,s0[t,j],s0[t,i]] = Pij_true[i,j,s0[t,i],s0[t,j]]\n",
    "\n",
    "Pij_true = Pij_true/Meff  "
   ]
  },
  {
   "cell_type": "code",
   "execution_count": 11,
   "metadata": {},
   "outputs": [],
   "source": [
    "scra = np.eye(q)\n",
    "for i in range(n):\n",
    "    for alpha in range(q):\n",
    "        for beta in range(q):\n",
    "            Pij_true[i,i,alpha,beta] = Pi_true[i,alpha]*scra[alpha,beta]            "
   ]
  },
  {
   "cell_type": "code",
   "execution_count": 12,
   "metadata": {},
   "outputs": [],
   "source": [
    "# Pi, Pij\n",
    "Pi = (1 - pseudo_weight)*Pi_true + pseudo_weight/q\n",
    "Pij = (1 - pseudo_weight)*Pij_true + pseudo_weight/(q**2)"
   ]
  },
  {
   "cell_type": "code",
   "execution_count": 13,
   "metadata": {},
   "outputs": [],
   "source": [
    "scra = np.eye(q)\n",
    "for i in range(n):\n",
    "    for alpha in range(q):\n",
    "        for beta in range(q):\n",
    "            Pij[i,i,alpha,beta] = (1 - pseudo_weight)*Pij_true[i,i,alpha,beta]\\\n",
    "                                    + pseudo_weight/q*scra[alpha,beta]"
   ]
  },
  {
   "cell_type": "code",
   "execution_count": 14,
   "metadata": {},
   "outputs": [],
   "source": [
    "# compute correlation matrix:\n",
    "def mapkey(i,alpha,q):\n",
    "    #return (q-1)*(i-1) + alpha\n",
    "    return i*(q-1) + alpha\n",
    "\n",
    "C = np.zeros((n*(q-1),n*(q-1)))\n",
    "for i in range(n):\n",
    "    for j in range(n):\n",
    "        for alpha in range(q-1):\n",
    "            for beta in range(q-1):\n",
    "                C[mapkey(i,alpha,q),mapkey(j,beta,q)] = Pij[i,j,alpha,beta] - Pi[i,alpha]*Pi[j,beta]"
   ]
  },
  {
   "cell_type": "code",
   "execution_count": 15,
   "metadata": {},
   "outputs": [],
   "source": [
    "C_inv = linalg.inv(C)"
   ]
  },
  {
   "cell_type": "code",
   "execution_count": 16,
   "metadata": {},
   "outputs": [
    {
     "data": {
      "text/plain": [
       "(2660, 2660)"
      ]
     },
     "execution_count": 16,
     "metadata": {},
     "output_type": "execute_result"
    }
   ],
   "source": [
    "C_inv.shape"
   ]
  },
  {
   "cell_type": "code",
   "execution_count": 17,
   "metadata": {},
   "outputs": [],
   "source": [
    "np.savetxt('C_inv.dat',C_inv,fmt='% f')"
   ]
  },
  {
   "cell_type": "code",
   "execution_count": 48,
   "metadata": {},
   "outputs": [],
   "source": [
    "# set w = - C_inv\n",
    "def ReturnW(C_inv,i,j,q):\n",
    "    w = np.zeros((q,q))    \n",
    "    for alpha in range(q-1):\n",
    "        for beta in range(q-1):\n",
    "            w[alpha,beta] = -C_inv[mapkey(i,alpha,q),mapkey(j,beta,q)]    \n",
    "    return w\n",
    "\n",
    "#---------------------------------------------------------------------------------\n",
    "\n",
    "di = np.zeros((n,n))\n",
    "tiny = 10**(-100.)\n",
    "diff_thres = 10**(-4.)\n",
    "\n",
    "f = open('ew.dat','w')\n",
    "eh1eh2_out = open('eh1eh2.dat','w')\n",
    "di_out = open('di.dat','w')\n",
    "for i in range(n-1):\n",
    "    for j in range(i+1,n):\n",
    "        \n",
    "        # ew:\n",
    "        w_mf = ReturnW(C_inv,i,j,q)\n",
    "        ew = np.exp(w_mf)\n",
    "        \n",
    "        # print\n",
    "        for iq in range(q):\n",
    "            for jq in range(q):\n",
    "                f.write(\"% i % i % i % i % f \\n\" % (i+1,j+1,iq,jq,ew[iq,jq]))\n",
    "                        \n",
    "        #------------------------------------------------------\n",
    "        # find h1 and h2:\n",
    "        \n",
    "        # initial value\n",
    "        diff = diff_thres + 1.\n",
    "        eh1 = np.full(q,1./q)\n",
    "        eh2 = np.full(q,1./q)\n",
    "        \n",
    "        fi0 = Pi[i,:]\n",
    "        fj0 = Pi[j,:]\n",
    "        \n",
    "        for iloop in range(100):\n",
    "            eh_ew1 = eh2.dot(ew.T)\n",
    "            eh_ew2 = eh1.dot(ew)\n",
    "\n",
    "            eh1_new = fi0/eh_ew1\n",
    "            eh1_new /= eh1_new.sum()\n",
    "\n",
    "            eh2_new = fj0/eh_ew2\n",
    "            eh2_new /= eh2_new.sum()\n",
    "\n",
    "            diff = max(np.max(np.abs(eh1_new - eh1)),np.max(np.abs(eh2_new - eh2)))\n",
    "\n",
    "            eh1,eh2 = eh1_new,eh2_new    \n",
    "            if diff < diff_thres: break        \n",
    "\n",
    "        # print eh1,eh2\n",
    "        for iq in range(q):\n",
    "            eh1eh2_out.write(\"% i % i % i % f % f \\n\" % (i+1,j+1,iq+1,eh1[iq],eh2[iq]))\n",
    "                                \n",
    "        # direct information\n",
    "        eh1eh2 = eh1[:,np.newaxis]*eh2[np.newaxis,:]\n",
    "        pdir = ew*(eh1eh2)\n",
    "        pdir /= pdir.sum() \n",
    "        \n",
    "        fifj = fi0[:,np.newaxis]*fj0[np.newaxis,:]\n",
    "        \n",
    "        dijab = pdir*np.log(pdir/fifj)        \n",
    "        di[i,j] = dijab.sum()\n",
    "        \n",
    "        di_out.write(\"% i % i % f \\n\" % (i+1,j+1,di[i,j]))\n",
    "                \n",
    "f.close()\n",
    "eh1eh2_out.close()\n",
    "di_out.close()"
   ]
  },
  {
   "cell_type": "code",
   "execution_count": 49,
   "metadata": {},
   "outputs": [],
   "source": [
    "di = di + di.T"
   ]
  },
  {
   "cell_type": "code",
   "execution_count": 50,
   "metadata": {},
   "outputs": [],
   "source": [
    "np.savetxt('di.dat',di,fmt='% f')"
   ]
  },
  {
   "cell_type": "code",
   "execution_count": 51,
   "metadata": {},
   "outputs": [
    {
     "data": {
      "text/plain": [
       "<matplotlib.image.AxesImage at 0x7f5def972a90>"
      ]
     },
     "execution_count": 51,
     "metadata": {},
     "output_type": "execute_result"
    },
    {
     "data": {
      "image/png": "[encoded data removed]",
      "text/plain": [
       "<Figure size 432x288 with 1 Axes>"
      ]
     },
     "metadata": {},
     "output_type": "display_data"
    }
   ],
   "source": [
    "plt.imshow(di,cmap='rainbow',origin='lower')"
   ]
  },
  {
   "cell_type": "code",
   "execution_count": null,
   "metadata": {},
   "outputs": [],
   "source": []
  }
 ],
 "metadata": {
  "kernelspec": {
   "display_name": "Python 2",
   "language": "python",
   "name": "python2"
  },
  "language_info": {
   "codemirror_mode": {
    "name": "ipython",
    "version": 2
   },
   "file_extension": ".py",
   "mimetype": "text/x-python",
   "name": "python",
   "nbconvert_exporter": "python",
   "pygments_lexer": "ipython2",
   "version": "2.7.15"
  }
 },
 "nbformat": 4,
 "nbformat_minor": 2
}
