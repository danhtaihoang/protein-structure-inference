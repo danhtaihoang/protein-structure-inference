{
 "cells": [
  {
   "cell_type": "code",
   "execution_count": 1,
   "metadata": {
    "collapsed": true
   },
   "outputs": [],
   "source": [
    "import numpy as np\n",
    "import matplotlib.pyplot as plt"
   ]
  },
  {
   "cell_type": "code",
   "execution_count": 2,
   "metadata": {
    "collapsed": false
   },
   "outputs": [],
   "source": [
    "a = np.loadtxt('dca_result.txt')"
   ]
  },
  {
   "cell_type": "code",
   "execution_count": 3,
   "metadata": {
    "collapsed": true
   },
   "outputs": [],
   "source": [
    "i = a[:,0].astype(int)\n",
    "j = a[:,1].astype(int)\n",
    "b = a[:,3]"
   ]
  },
  {
   "cell_type": "code",
   "execution_count": 4,
   "metadata": {
    "collapsed": true
   },
   "outputs": [],
   "source": [
    "n = j.max()"
   ]
  },
  {
   "cell_type": "code",
   "execution_count": 5,
   "metadata": {
    "collapsed": false,
    "scrolled": true
   },
   "outputs": [
    {
     "name": "stdout",
     "output_type": "stream",
     "text": [
      "[[0.         0.145826   0.0506634  ... 0.00516918 0.00484956 0.00310922]\n",
      " [0.145826   0.         0.0567493  ... 0.0024101  0.00293624 0.00170251]\n",
      " [0.0506634  0.0567493  0.         ... 0.00604508 0.00470637 0.00231537]\n",
      " ...\n",
      " [0.00516918 0.0024101  0.00604508 ... 0.         0.217317   0.0348013 ]\n",
      " [0.00484956 0.00293624 0.00470637 ... 0.217317   0.         0.269605  ]\n",
      " [0.00310922 0.00170251 0.00231537 ... 0.0348013  0.269605   0.        ]]\n"
     ]
    }
   ],
   "source": [
    "di = np.zeros((n,n))\n",
    "for ii in range(i.shape[0]):\n",
    "    di[i[ii]-1,j[ii]-1] = b[ii]    # i[ii]-1 : converted matlab index to python\n",
    "    di[j[ii]-1,i[ii]-1] = b[ii]\n",
    "print(di)"
   ]
  },
  {
   "cell_type": "code",
   "execution_count": 6,
   "metadata": {
    "collapsed": true
   },
   "outputs": [],
   "source": [
    "np.savetxt('direct_info_dca.dat',di,fmt='%f')"
   ]
  },
  {
   "cell_type": "code",
   "execution_count": 7,
   "metadata": {
    "collapsed": false
   },
   "outputs": [
    {
     "data": {
      "image/png": "[encoded data removed]",
      "text/plain": [
       "<matplotlib.figure.Figure at 0x7f1bd2dac210>"
      ]
     },
     "metadata": {},
     "output_type": "display_data"
    }
   ],
   "source": [
    "plt.figure(figsize=(3.2,3.2))\n",
    "\n",
    "plt.subplot2grid((1,2),(0,0))\n",
    "plt.title('direct information')\n",
    "plt.imshow(di,cmap='rainbow',origin='lower')\n",
    "plt.xlabel('j')\n",
    "plt.ylabel('i')\n",
    "plt.clim(0.,0.05)\n",
    "plt.colorbar(fraction=0.045, pad=0.05,ticks=[0.,0.5])\n",
    "\n",
    "plt.savefig('direct_info_dca.pdf', format='pdf', dpi=100)\n",
    "plt.show()"
   ]
  },
  {
   "cell_type": "code",
   "execution_count": null,
   "metadata": {
    "collapsed": true
   },
   "outputs": [],
   "source": []
  }
 ],
 "metadata": {
  "kernelspec": {
   "display_name": "Python 2",
   "language": "python",
   "name": "python2"
  },
  "language_info": {
   "codemirror_mode": {
    "name": "ipython",
    "version": 2
   },
   "file_extension": ".py",
   "mimetype": "text/x-python",
   "name": "python",
   "nbconvert_exporter": "python",
   "pygments_lexer": "ipython2",
   "version": "2.7.15"
  }
 },
 "nbformat": 4,
 "nbformat_minor": 2
}
