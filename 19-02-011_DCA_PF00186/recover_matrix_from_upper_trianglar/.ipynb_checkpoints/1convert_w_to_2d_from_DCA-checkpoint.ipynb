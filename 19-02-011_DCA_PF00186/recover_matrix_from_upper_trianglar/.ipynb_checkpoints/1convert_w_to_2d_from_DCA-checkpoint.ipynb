{
 "cells": [
  {
   "cell_type": "code",
   "execution_count": 1,
   "metadata": {},
   "outputs": [],
   "source": [
    "import numpy as np"
   ]
  },
  {
   "cell_type": "code",
   "execution_count": 2,
   "metadata": {},
   "outputs": [],
   "source": [
    "a = np.loadtxt('test_W.txt')"
   ]
  },
  {
   "cell_type": "code",
   "execution_count": 3,
   "metadata": {
    "scrolled": true
   },
   "outputs": [
    {
     "data": {
      "text/plain": [
       "array([[ 1.,  2.,  1.,  1., 11.],\n",
       "       [ 1.,  2.,  1.,  2., 12.],\n",
       "       [ 1.,  2.,  2.,  1., 13.],\n",
       "       [ 1.,  2.,  2.,  2., 14.],\n",
       "       [ 1.,  3.,  1.,  1., 15.],\n",
       "       [ 1.,  3.,  1.,  2., 16.],\n",
       "       [ 1.,  3.,  2.,  1., 17.],\n",
       "       [ 1.,  3.,  2.,  2., 18.],\n",
       "       [ 2.,  3.,  1.,  1., 19.],\n",
       "       [ 2.,  3.,  1.,  2., 20.],\n",
       "       [ 2.,  3.,  2.,  1., 21.],\n",
       "       [ 2.,  3.,  2.,  2., 22.]])"
      ]
     },
     "execution_count": 3,
     "metadata": {},
     "output_type": "execute_result"
    }
   ],
   "source": [
    "a"
   ]
  },
  {
   "cell_type": "code",
   "execution_count": 4,
   "metadata": {},
   "outputs": [
    {
     "name": "stdout",
     "output_type": "stream",
     "text": [
      "[1 1 1 1 1 1 1 1 2 2 2 2]\n"
     ]
    }
   ],
   "source": [
    "i = a[:,0].astype(int)\n",
    "print(i)"
   ]
  },
  {
   "cell_type": "code",
   "execution_count": 5,
   "metadata": {
    "scrolled": true
   },
   "outputs": [
    {
     "name": "stdout",
     "output_type": "stream",
     "text": [
      "[2 2 2 2 3 3 3 3 3 3 3 3]\n"
     ]
    }
   ],
   "source": [
    "j = a[:,1].astype(int)\n",
    "print(j)"
   ]
  },
  {
   "cell_type": "code",
   "execution_count": 6,
   "metadata": {},
   "outputs": [
    {
     "name": "stdout",
     "output_type": "stream",
     "text": [
      "[1 1 2 2 1 1 2 2 1 1 2 2]\n"
     ]
    }
   ],
   "source": [
    "k = a[:,2].astype(int)\n",
    "print(k)"
   ]
  },
  {
   "cell_type": "code",
   "execution_count": 7,
   "metadata": {},
   "outputs": [
    {
     "name": "stdout",
     "output_type": "stream",
     "text": [
      "[1 2 1 2 1 2 1 2 1 2 1 2]\n"
     ]
    }
   ],
   "source": [
    "l = a[:,3].astype(int)\n",
    "print(l)"
   ]
  },
  {
   "cell_type": "code",
   "execution_count": 8,
   "metadata": {},
   "outputs": [
    {
     "name": "stdout",
     "output_type": "stream",
     "text": [
      "[11. 12. 13. 14. 15. 16. 17. 18. 19. 20. 21. 22.]\n"
     ]
    }
   ],
   "source": [
    "b = a[:,4]\n",
    "print(b)"
   ]
  },
  {
   "cell_type": "code",
   "execution_count": 9,
   "metadata": {},
   "outputs": [
    {
     "name": "stdout",
     "output_type": "stream",
     "text": [
      "3\n"
     ]
    }
   ],
   "source": [
    "# number of position\n",
    "n = j.max()\n",
    "print(n)"
   ]
  },
  {
   "cell_type": "code",
   "execution_count": 10,
   "metadata": {},
   "outputs": [
    {
     "name": "stdout",
     "output_type": "stream",
     "text": [
      "2\n"
     ]
    }
   ],
   "source": [
    "# number of value at each position\n",
    "m = k.max()\n",
    "print(m)"
   ]
  },
  {
   "cell_type": "code",
   "execution_count": 11,
   "metadata": {},
   "outputs": [],
   "source": [
    "c = np.zeros((n*m,n*m))"
   ]
  },
  {
   "cell_type": "code",
   "execution_count": 12,
   "metadata": {},
   "outputs": [
    {
     "name": "stdout",
     "output_type": "stream",
     "text": [
      "[[ 0.  0. 11. 12. 15. 16.]\n",
      " [ 0.  0. 13. 14. 17. 18.]\n",
      " [11. 13.  0.  0. 19. 20.]\n",
      " [12. 14.  0.  0. 21. 22.]\n",
      " [15. 17. 19. 21.  0.  0.]\n",
      " [16. 18. 20. 22.  0.  0.]]\n"
     ]
    }
   ],
   "source": [
    "for ii in range(i.shape[0]):    \n",
    "    i1 = (i[ii]-1)*m + (k[ii]-1)   # i[ii]-1 : converted matlab index to pytho\n",
    "    j1 = (j[ii]-1)*m + (l[ii]-1)\n",
    "    c[i1,j1] = b[ii]\n",
    "    c[j1,i1] = b[ii]\n",
    "    \n",
    "print(c)"
   ]
  },
  {
   "cell_type": "code",
   "execution_count": 13,
   "metadata": {},
   "outputs": [],
   "source": [
    "np.savetxt('test_w_converted.dat',c,fmt='% f')"
   ]
  },
  {
   "cell_type": "code",
   "execution_count": null,
   "metadata": {},
   "outputs": [],
   "source": []
  }
 ],
 "metadata": {
  "kernelspec": {
   "display_name": "Python 2",
   "language": "python",
   "name": "python2"
  },
  "language_info": {
   "codemirror_mode": {
    "name": "ipython",
    "version": 2
   },
   "file_extension": ".py",
   "mimetype": "text/x-python",
   "name": "python",
   "nbconvert_exporter": "python",
   "pygments_lexer": "ipython2",
   "version": "2.7.15"
  }
 },
 "nbformat": 4,
 "nbformat_minor": 2
}
