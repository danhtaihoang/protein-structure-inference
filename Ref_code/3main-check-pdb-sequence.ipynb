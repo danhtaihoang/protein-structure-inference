{
 "cells": [
  {
   "cell_type": "code",
   "execution_count": 1,
   "metadata": {},
   "outputs": [],
   "source": [
    "import matplotlib.pyplot as plt\n",
    "from matplotlib import patches\n",
    "import numpy as np\n",
    "import pandas as pd\n",
    "from scipy.spatial import distance_matrix\n",
    "#import fem, sys, os, time, Bio.PDB,warnings,nglview\n",
    "import sys, os, Bio.PDB, warnings\n",
    "pdb_list = Bio.PDB.PDBList()\n",
    "pdb_parser = Bio.PDB.PDBParser()\n",
    "#data_dir = '../../protein_pfam'\n",
    "data_dir = 'data'\n",
    "sys.path.append(data_dir)\n",
    "#from parse_pfam import parse_pfam\n",
    "from parse_pfam_test import parse_pfam\n",
    "from Bio import BiopythonWarning\n",
    "warnings.simplefilter('ignore', BiopythonWarning)\n",
    "%matplotlib inline\n",
    "#from IPython.display import Image\n",
    "#from ipymol import viewer\n",
    "#viewer.start()\n",
    "#pymol = viewer._server"
   ]
  },
  {
   "cell_type": "code",
   "execution_count": 2,
   "metadata": {
    "scrolled": true
   },
   "outputs": [
    {
     "name": "stdout",
     "output_type": "stream",
     "text": [
      "total MSAs: 6, total PDB refs: 285\n"
     ]
    }
   ],
   "source": [
    "pfam, pdb_refs = parse_pfam(data_dir)\n",
    "print 'total MSAs: %i, total PDB refs: %i' % (pfam.shape[0], pdb_refs.shape[0])"
   ]
  },
  {
   "cell_type": "code",
   "execution_count": 3,
   "metadata": {
    "scrolled": true
   },
   "outputs": [
    {
     "data": {
      "text/html": [
       "<div>\n",
       "<style scoped>\n",
       "    .dataframe tbody tr th:only-of-type {\n",
       "        vertical-align: middle;\n",
       "    }\n",
       "\n",
       "    .dataframe tbody tr th {\n",
       "        vertical-align: top;\n",
       "    }\n",
       "\n",
       "    .dataframe thead th {\n",
       "        text-align: right;\n",
       "    }\n",
       "</style>\n",
       "<table border=\"1\" class=\"dataframe\">\n",
       "  <thead>\n",
       "    <tr style=\"text-align: right;\">\n",
       "      <th></th>\n",
       "      <th>res</th>\n",
       "      <th>seq</th>\n",
       "      <th>pdb_refs</th>\n",
       "    </tr>\n",
       "  </thead>\n",
       "  <tbody>\n",
       "    <tr>\n",
       "      <th>PF10417</th>\n",
       "      <td>113</td>\n",
       "      <td>9746</td>\n",
       "      <td>555</td>\n",
       "    </tr>\n",
       "    <tr>\n",
       "      <th>PF12574</th>\n",
       "      <td>0</td>\n",
       "      <td>0</td>\n",
       "      <td>0</td>\n",
       "    </tr>\n",
       "    <tr>\n",
       "      <th>PF09847</th>\n",
       "      <td>0</td>\n",
       "      <td>0</td>\n",
       "      <td>0</td>\n",
       "    </tr>\n",
       "    <tr>\n",
       "      <th>PF00244</th>\n",
       "      <td>0</td>\n",
       "      <td>0</td>\n",
       "      <td>0</td>\n",
       "    </tr>\n",
       "    <tr>\n",
       "      <th>PF16998</th>\n",
       "      <td>0</td>\n",
       "      <td>0</td>\n",
       "      <td>0</td>\n",
       "    </tr>\n",
       "  </tbody>\n",
       "</table>\n",
       "</div>"
      ],
      "text/plain": [
       "         res   seq  pdb_refs\n",
       "PF10417  113  9746       555\n",
       "PF12574    0     0         0\n",
       "PF09847    0     0         0\n",
       "PF00244    0     0         0\n",
       "PF16998    0     0         0"
      ]
     },
     "execution_count": 3,
     "metadata": {},
     "output_type": "execute_result"
    }
   ],
   "source": [
    "#pfam['size'] = pfam['res'] * pfam['seq']\n",
    "pfam.sort_values(by='seq', ascending=False, inplace=True)\n",
    "pfam.head()"
   ]
  },
  {
   "cell_type": "code",
   "execution_count": 4,
   "metadata": {
    "scrolled": false
   },
   "outputs": [],
   "source": [
    "# Cas 9 family accesion code\n",
    "ac = 'PF10417'\n",
    "# store the family of interest in the 'fam' variable\n",
    "fam = pfam.loc[ac]\n",
    "#print 'size rank: %i of %i' % (pfam['size'].rank(ascending=False)[fam.name].astype(int), pfam.shape[0])"
   ]
  },
  {
   "cell_type": "code",
   "execution_count": 5,
   "metadata": {},
   "outputs": [],
   "source": [
    "# local directory containing data for this MSA\n",
    "fam_dir = os.path.join(data_dir, 'Pfam-A.full', fam.name)\n",
    "\n",
    "# the residue symbols array that is the MSA\n",
    "msa = np.load(os.path.join(fam_dir, 'msa.npy'))"
   ]
  },
  {
   "cell_type": "code",
   "execution_count": 6,
   "metadata": {
    "scrolled": false
   },
   "outputs": [
    {
     "name": "stdout",
     "output_type": "stream",
     "text": [
      "(113, 9746)\n"
     ]
    }
   ],
   "source": [
    "print(msa.shape)"
   ]
  },
  {
   "cell_type": "code",
   "execution_count": 7,
   "metadata": {
    "scrolled": true
   },
   "outputs": [
    {
     "name": "stdout",
     "output_type": "stream",
     "text": [
      "['-' '-' '-' '-' '-' '-' '-' '-' '-' '-' 'a' '-' 'A' 'Q' 'F' 'V' 'A' 'E'\n",
      " 'H' '-' '-' '-' 'G' 'D' '-' 'q' 'V' 'C' 'P' 'A' 'K' 'W' '-' 'T' 'P' '-'\n",
      " '-' '-' '-' '-' '-' '-' '-' '-' '-' '-' '-' '-' '-' '-' '-' '-' 'G' 'A'\n",
      " 'E' 'T' '-' 'I' 'V' '-' 'P' '-' '-' '-' '-' '-' '-' '-' '-' '-' '-' '-'\n",
      " '-' '-' '-' '-' '-' '-' '-' '-' '-' '-' '-' '-' '-' '-' '-' 's' 'l' '-'\n",
      " '-' '-' '-' '-' '-' '-' '-' '-' '-' '-' '-' '-' '-' '-' '-' '-' '-' '-'\n",
      " '-' '-' '-' '-' '-']\n"
     ]
    }
   ],
   "source": [
    "print(msa[:,0])"
   ]
  },
  {
   "cell_type": "code",
   "execution_count": 8,
   "metadata": {},
   "outputs": [
    {
     "name": "stdout",
     "output_type": "stream",
     "text": [
      "['-' '-' '-' '-' '-' '-' '-' '-' '-' '-' '-' 'A' 'F' 'Q' 'F' 'T' 'D' 'K'\n",
      " 'H' '-' '-' '-' 'G' 'E' '-' '-' 'V' 'C' 'P' 'A' 'G' 'W' '-' 'K' 'P' '-'\n",
      " '-' '-' '-' '-' '-' '-' '-' '-' '-' '-' '-' '-' '-' '-' '-' '-' 'G' 'S'\n",
      " 'D' 'T' '-' 'I' '-' '-' '-' '-' '-' '-' 'K' '-' 'P' '-' 'D' '-' 'V' '-'\n",
      " 'E' '-' '-' '-' 'K' '-' '-' '-' 'S' 'K' 'E' 'Y' 'F' 'S' 'K' '-' '-' '-'\n",
      " '-' '-' '-' '-' '-' '-' '-' '-' '-' '-' '-' '-' '-' '-' '-' '-' '-' '-'\n",
      " '-' '-' '-' '-' '-']\n"
     ]
    }
   ],
   "source": [
    "print(msa[:,1])"
   ]
  },
  {
   "cell_type": "code",
   "execution_count": 9,
   "metadata": {},
   "outputs": [
    {
     "name": "stdout",
     "output_type": "stream",
     "text": [
      "['-' '-' '-' '-' '-' '-' '-' '-' '-' '-' '-' 'S' 'L' 'Q' 'L' 'T' 'D' 'G'\n",
      " 'Y' '-' '-' '-' 'K' 'V' '-' '-' 'A' 'T' 'P' 'V' 'N' 'W' '-' 'K' 'D' '-'\n",
      " '-' '-' '-' '-' '-' '-' '-' '-' '-' '-' '-' '-' '-' '-' '-' '-' 'G' 'D'\n",
      " 'D' 'V' '-' 'I' 'I' '-' 'V' '-' 'P' '-' 'S' '-' 'L' '-' 'Q' '-' '-' '-'\n",
      " '-' '-' '-' '-' '-' '-' '-' '-' '-' '-' '-' '-' '-' '-' '-' 'd' 'p' 'a'\n",
      " 'e' 'l' 'a' 'q' 'r' 'f' 'p' 'k' 'g' '-' '-' '-' '-' '-' '-' '-' '-' '-'\n",
      " '-' '-' '-' '-' '-']\n"
     ]
    }
   ],
   "source": [
    "print(msa[:,2])"
   ]
  },
  {
   "cell_type": "markdown",
   "metadata": {},
   "source": [
    "## PDB structures"
   ]
  },
  {
   "cell_type": "code",
   "execution_count": 10,
   "metadata": {},
   "outputs": [
    {
     "data": {
      "text/html": [
       "<div>\n",
       "<style scoped>\n",
       "    .dataframe tbody tr th:only-of-type {\n",
       "        vertical-align: middle;\n",
       "    }\n",
       "\n",
       "    .dataframe tbody tr th {\n",
       "        vertical-align: top;\n",
       "    }\n",
       "\n",
       "    .dataframe thead th {\n",
       "        text-align: right;\n",
       "    }\n",
       "</style>\n",
       "<table border=\"1\" class=\"dataframe\">\n",
       "  <thead>\n",
       "    <tr style=\"text-align: right;\">\n",
       "      <th></th>\n",
       "      <th>seq</th>\n",
       "      <th>uniprot_id</th>\n",
       "      <th>uniprot_start</th>\n",
       "      <th>uniprot_end</th>\n",
       "      <th>pdb_id</th>\n",
       "      <th>chain</th>\n",
       "      <th>pdb_start</th>\n",
       "      <th>pdb_end</th>\n",
       "      <th>res</th>\n",
       "    </tr>\n",
       "  </thead>\n",
       "  <tbody>\n",
       "    <tr>\n",
       "      <th>PF10417</th>\n",
       "      <td>8778</td>\n",
       "      <td>PRDX2_HUMAN</td>\n",
       "      <td>161</td>\n",
       "      <td>196</td>\n",
       "      <td>1QMV</td>\n",
       "      <td>F</td>\n",
       "      <td>161</td>\n",
       "      <td>196</td>\n",
       "      <td>36</td>\n",
       "    </tr>\n",
       "    <tr>\n",
       "      <th>PF10417</th>\n",
       "      <td>8778</td>\n",
       "      <td>PRDX2_HUMAN</td>\n",
       "      <td>161</td>\n",
       "      <td>196</td>\n",
       "      <td>1QMV</td>\n",
       "      <td>G</td>\n",
       "      <td>161</td>\n",
       "      <td>196</td>\n",
       "      <td>36</td>\n",
       "    </tr>\n",
       "    <tr>\n",
       "      <th>PF10417</th>\n",
       "      <td>8778</td>\n",
       "      <td>PRDX2_HUMAN</td>\n",
       "      <td>161</td>\n",
       "      <td>196</td>\n",
       "      <td>1QMV</td>\n",
       "      <td>A</td>\n",
       "      <td>161</td>\n",
       "      <td>196</td>\n",
       "      <td>36</td>\n",
       "    </tr>\n",
       "    <tr>\n",
       "      <th>PF10417</th>\n",
       "      <td>8778</td>\n",
       "      <td>PRDX2_HUMAN</td>\n",
       "      <td>161</td>\n",
       "      <td>196</td>\n",
       "      <td>1QMV</td>\n",
       "      <td>D</td>\n",
       "      <td>161</td>\n",
       "      <td>196</td>\n",
       "      <td>36</td>\n",
       "    </tr>\n",
       "    <tr>\n",
       "      <th>PF10417</th>\n",
       "      <td>8778</td>\n",
       "      <td>PRDX2_HUMAN</td>\n",
       "      <td>161</td>\n",
       "      <td>196</td>\n",
       "      <td>1QMV</td>\n",
       "      <td>C</td>\n",
       "      <td>161</td>\n",
       "      <td>196</td>\n",
       "      <td>36</td>\n",
       "    </tr>\n",
       "  </tbody>\n",
       "</table>\n",
       "</div>"
      ],
      "text/plain": [
       "          seq   uniprot_id  uniprot_start  uniprot_end pdb_id chain  \\\n",
       "PF10417  8778  PRDX2_HUMAN            161          196   1QMV     F   \n",
       "PF10417  8778  PRDX2_HUMAN            161          196   1QMV     G   \n",
       "PF10417  8778  PRDX2_HUMAN            161          196   1QMV     A   \n",
       "PF10417  8778  PRDX2_HUMAN            161          196   1QMV     D   \n",
       "PF10417  8778  PRDX2_HUMAN            161          196   1QMV     C   \n",
       "\n",
       "         pdb_start  pdb_end  res  \n",
       "PF10417        161      196   36  \n",
       "PF10417        161      196   36  \n",
       "PF10417        161      196   36  \n",
       "PF10417        161      196   36  \n",
       "PF10417        161      196   36  "
      ]
     },
     "execution_count": 10,
     "metadata": {},
     "output_type": "execute_result"
    }
   ],
   "source": [
    "pdb_refs['res'] = pdb_refs['pdb_end'] - pdb_refs['pdb_start'] + 1\n",
    "pdb_refs.sort_values(by='seq', ascending=False, inplace=True)\n",
    "pdb_refs.head()"
   ]
  },
  {
   "cell_type": "code",
   "execution_count": 11,
   "metadata": {},
   "outputs": [
    {
     "name": "stdout",
     "output_type": "stream",
     "text": [
      "(285, 9)\n",
      "          seq   uniprot_id  uniprot_start  uniprot_end pdb_id chain  \\\n",
      "PF10417  8778  PRDX2_HUMAN            161          196   1QMV     F   \n",
      "PF10417  8778  PRDX2_HUMAN            161          196   1QMV     G   \n",
      "PF10417  8778  PRDX2_HUMAN            161          196   1QMV     A   \n",
      "PF10417  8778  PRDX2_HUMAN            161          196   1QMV     D   \n",
      "PF10417  8778  PRDX2_HUMAN            161          196   1QMV     C   \n",
      "PF10417  8778  PRDX2_HUMAN            161          196   1QMV     B   \n",
      "PF10417  8778  PRDX2_HUMAN            161          196   1QMV     J   \n",
      "PF10417  8778  PRDX2_HUMAN            161          196   1QMV     H   \n",
      "PF10417  8778  PRDX2_HUMAN            161          196   1QMV     I   \n",
      "PF10417  8778  PRDX2_HUMAN            161          196   1QMV     E   \n",
      "PF10417  8449   TDXH_PYRHO            155          198   5XBQ     A   \n",
      "PF10417  8449   TDXH_PYRHO            155          198   3W6G     H   \n",
      "PF10417  8449   TDXH_PYRHO            155          198   3W6G     S   \n",
      "PF10417  8449   TDXH_PYRHO            155          198   3W6G     J   \n",
      "PF10417  8449   TDXH_PYRHO            155          198   3W6G     I   \n",
      "PF10417  8449   TDXH_PYRHO            155          198   5XBQ     E   \n",
      "PF10417  8449   TDXH_PYRHO            155          198   5XBQ     H   \n",
      "PF10417  8449   TDXH_PYRHO            155          198   3W6G     N   \n",
      "PF10417  8449   TDXH_PYRHO            155          198   3W6G     Q   \n",
      "PF10417  8449   TDXH_PYRHO            155          198   3W6G     B   \n",
      "PF10417  8449   TDXH_PYRHO            155          198   3W6G     P   \n",
      "PF10417  8449   TDXH_PYRHO            155          198   5XBQ     G   \n",
      "PF10417  8449   TDXH_PYRHO            155          198   3W6G     G   \n",
      "PF10417  8449   TDXH_PYRHO            155          198   3W6G     A   \n",
      "PF10417  8449   TDXH_PYRHO            155          198   5XBQ     C   \n",
      "PF10417  8449   TDXH_PYRHO            155          198   5XBQ     D   \n",
      "PF10417  8449   TDXH_PYRHO            155          198   3W6G     T   \n",
      "PF10417  8449   TDXH_PYRHO            155          198   3W6G     F   \n",
      "PF10417  8449   TDXH_PYRHO            155          198   5XBQ     B   \n",
      "PF10417  8449   TDXH_PYRHO            155          198   3W6G     K   \n",
      "...       ...          ...            ...          ...    ...   ...   \n",
      "PF10417    92   AHPC_SALTY            154          186   4XS4     B   \n",
      "PF10417    92   AHPC_SALTY            154          186   1N8J     D   \n",
      "PF10417    92   AHPC_SALTY            154          186   4XS4     D   \n",
      "PF10417    92   AHPC_SALTY            154          186   4MA9     C   \n",
      "PF10417    92   AHPC_SALTY            154          186   1N8J     K   \n",
      "PF10417    92   AHPC_SALTY            154          186   1N8J     B   \n",
      "PF10417    92   AHPC_SALTY            154          186   4XRA     E   \n",
      "PF10417    92   AHPC_SALTY            154          186   4XRA     D   \n",
      "PF10417    92   AHPC_SALTY            154          186   1N8J     J   \n",
      "PF10417    92   AHPC_SALTY            154          186   4XRA     C   \n",
      "PF10417    92   AHPC_SALTY            154          186   4XS4     E   \n",
      "PF10417    92   AHPC_SALTY            154          186   4MAB     C   \n",
      "PF10417    92   AHPC_SALTY            154          186   1N8J     C   \n",
      "PF10417    92   AHPC_SALTY            154          186   4XS4     C   \n",
      "PF10417    92   AHPC_SALTY            154          186   1N8J     S   \n",
      "PF10417    92   AHPC_SALTY            154          186   1N8J     M   \n",
      "PF10417    92   AHPC_SALTY            154          186   1N8J     G   \n",
      "PF10417    92   AHPC_SALTY            154          186   1N8J     N   \n",
      "PF10417    92   AHPC_SALTY            154          186   1N8J     T   \n",
      "PF10417    92   AHPC_SALTY            154          186   1N8J     L   \n",
      "PF10417    92   AHPC_SALTY            154          186   4MAB     B   \n",
      "PF10417    92   AHPC_SALTY            154          186   1N8J     Q   \n",
      "PF10417    92   AHPC_SALTY            154          186   1N8J     O   \n",
      "PF10417    92   AHPC_SALTY            154          186   1N8J     R   \n",
      "PF10417    92   AHPC_SALTY            154          186   4XRA     B   \n",
      "PF10417    92   AHPC_SALTY            154          186   4MA9     B   \n",
      "PF10417    92   AHPC_SALTY            154          186   1N8J     E   \n",
      "PF10417    92   AHPC_SALTY            154          186   4MA9     D   \n",
      "PF10417    92   AHPC_SALTY            154          186   1N8J     H   \n",
      "PF10417    92   AHPC_SALTY            154          186   4MAB     D   \n",
      "\n",
      "         pdb_start  pdb_end  res  \n",
      "PF10417        161      196   36  \n",
      "PF10417        161      196   36  \n",
      "PF10417        161      196   36  \n",
      "PF10417        161      196   36  \n",
      "PF10417        161      196   36  \n",
      "PF10417        161      196   36  \n",
      "PF10417        161      196   36  \n",
      "PF10417        161      196   36  \n",
      "PF10417        161      196   36  \n",
      "PF10417        161      196   36  \n",
      "PF10417        155      198   44  \n",
      "PF10417        155      198   44  \n",
      "PF10417        155      198   44  \n",
      "PF10417        155      198   44  \n",
      "PF10417        155      198   44  \n",
      "PF10417        155      198   44  \n",
      "PF10417        155      198   44  \n",
      "PF10417        155      198   44  \n",
      "PF10417        155      198   44  \n",
      "PF10417        155      198   44  \n",
      "PF10417        155      198   44  \n",
      "PF10417        155      198   44  \n",
      "PF10417        155      198   44  \n",
      "PF10417        155      198   44  \n",
      "PF10417        155      198   44  \n",
      "PF10417        155      198   44  \n",
      "PF10417        155      198   44  \n",
      "PF10417        155      198   44  \n",
      "PF10417        155      198   44  \n",
      "PF10417        155      198   44  \n",
      "...            ...      ...  ...  \n",
      "PF10417        153      185   33  \n",
      "PF10417        153      185   33  \n",
      "PF10417        153      185   33  \n",
      "PF10417        153      185   33  \n",
      "PF10417        153      185   33  \n",
      "PF10417        153      185   33  \n",
      "PF10417        153      185   33  \n",
      "PF10417        153      185   33  \n",
      "PF10417        153      185   33  \n",
      "PF10417        153      185   33  \n",
      "PF10417        153      185   33  \n",
      "PF10417        153      185   33  \n",
      "PF10417        153      185   33  \n",
      "PF10417        153      185   33  \n",
      "PF10417        153      185   33  \n",
      "PF10417        153      185   33  \n",
      "PF10417        153      185   33  \n",
      "PF10417        153      185   33  \n",
      "PF10417        153      185   33  \n",
      "PF10417        153      185   33  \n",
      "PF10417        153      185   33  \n",
      "PF10417        153      185   33  \n",
      "PF10417        153      185   33  \n",
      "PF10417        153      185   33  \n",
      "PF10417        153      185   33  \n",
      "PF10417        153      185   33  \n",
      "PF10417        153      185   33  \n",
      "PF10417        153      185   33  \n",
      "PF10417        153      185   33  \n",
      "PF10417        153      185   33  \n",
      "\n",
      "[285 rows x 9 columns]\n"
     ]
    }
   ],
   "source": [
    "refs = pdb_refs[pdb_refs.index.str.contains(fam.name)]\n",
    "#refs.head()\n",
    "print(refs.shape)\n",
    "print(refs)"
   ]
  },
  {
   "cell_type": "code",
   "execution_count": 12,
   "metadata": {
    "scrolled": true
   },
   "outputs": [
    {
     "name": "stdout",
     "output_type": "stream",
     "text": [
      "seq                     8778\n",
      "uniprot_id       PRDX2_HUMAN\n",
      "uniprot_start            161\n",
      "uniprot_end              196\n",
      "pdb_id                  1QMV\n",
      "chain                      F\n",
      "pdb_start                161\n",
      "pdb_end                  196\n",
      "res                       36\n",
      "Name: PF10417, dtype: object\n"
     ]
    }
   ],
   "source": [
    "i = 0  # from 0 to refs.shape[0]  (0-->19)\n",
    "ref = refs.iloc[i]\n",
    "print(ref)"
   ]
  },
  {
   "cell_type": "code",
   "execution_count": 13,
   "metadata": {},
   "outputs": [
    {
     "name": "stdout",
     "output_type": "stream",
     "text": [
      "Downloading PDB structure '1QMV'...\n"
     ]
    }
   ],
   "source": [
    "pdb_file = pdb_list.retrieve_pdb_file(ref.pdb_id, pdir=fam_dir, file_format='pdb')"
   ]
  },
  {
   "cell_type": "code",
   "execution_count": 14,
   "metadata": {
    "scrolled": false
   },
   "outputs": [
    {
     "name": "stdout",
     "output_type": "stream",
     "text": [
      "data/Pfam-A.full/PF10417/pdb1qmv.ent\n"
     ]
    }
   ],
   "source": [
    "print(pdb_file)"
   ]
  },
  {
   "cell_type": "code",
   "execution_count": 15,
   "metadata": {},
   "outputs": [],
   "source": [
    "pdb_seq = pdb_parser.get_structure(ref.pdb_id, pdb_file)"
   ]
  },
  {
   "cell_type": "code",
   "execution_count": 17,
   "metadata": {},
   "outputs": [
    {
     "name": "stdout",
     "output_type": "stream",
     "text": [
      "<Structure id=1QMV>\n"
     ]
    }
   ],
   "source": [
    "#print(pbd_seq.shape)\n",
    "print(pdb_seq)"
   ]
  },
  {
   "cell_type": "code",
   "execution_count": 20,
   "metadata": {},
   "outputs": [
    {
     "name": "stdout",
     "output_type": "stream",
     "text": [
      "<Model id=0>\n"
     ]
    }
   ],
   "source": [
    "print(pdb_seq[0])"
   ]
  },
  {
   "cell_type": "code",
   "execution_count": 21,
   "metadata": {},
   "outputs": [],
   "source": [
    "chain = pdb_parser.get_structure(ref.pdb_id, pdb_file)[0][ref.chain]"
   ]
  },
  {
   "cell_type": "code",
   "execution_count": 22,
   "metadata": {
    "scrolled": true
   },
   "outputs": [
    {
     "name": "stdout",
     "output_type": "stream",
     "text": [
      "<Chain id=F>\n"
     ]
    }
   ],
   "source": [
    "print(chain)"
   ]
  },
  {
   "cell_type": "code",
   "execution_count": 23,
   "metadata": {},
   "outputs": [],
   "source": [
    "coords = np.array([a.get_coord() for a in chain.get_atoms()])"
   ]
  },
  {
   "cell_type": "code",
   "execution_count": 24,
   "metadata": {},
   "outputs": [
    {
     "name": "stdout",
     "output_type": "stream",
     "text": [
      "(1770, 3)\n",
      "[[ 23.177 -17.875  39.31 ]\n",
      " [ 21.837 -17.334  39.329]\n",
      " [ 21.852 -16.136  38.356]\n",
      " ...\n",
      " [ 47.407 -30.266  42.513]\n",
      " [ 49.833 -29.394  40.141]\n",
      " [ 53.746 -29.739  41.809]]\n"
     ]
    }
   ],
   "source": [
    "print(coords.shape)\n",
    "print(coords)"
   ]
  },
  {
   "cell_type": "code",
   "execution_count": 25,
   "metadata": {},
   "outputs": [],
   "source": [
    "coords = coords[ref.pdb_start-1:ref.pdb_end]"
   ]
  },
  {
   "cell_type": "code",
   "execution_count": 26,
   "metadata": {},
   "outputs": [
    {
     "name": "stdout",
     "output_type": "stream",
     "text": [
      "(36, 3)\n",
      "[[  7.532 -24.46   12.827]\n",
      " [  6.695 -25.229  12.378]\n",
      " [  7.001 -22.19   11.947]\n",
      " [  7.389 -20.986  11.151]\n",
      " [  8.725 -20.611  11.014]\n",
      " [  6.412 -20.198  10.577]\n",
      " [  9.087 -19.494  10.255]\n",
      " [  6.752 -19.065   9.851]\n",
      " [  8.078 -18.73    9.692]\n",
      " [  8.053 -24.534  14.047]\n",
      " [  7.701 -25.623  14.957]\n",
      " [  7.72  -25.092  16.383]\n",
      " [  8.529 -24.207  16.708]\n",
      " [  8.745 -26.726  14.788]\n",
      " [  8.507 -28.012  15.55 ]\n",
      " [  9.631 -29.002  15.289]\n",
      " [  9.304 -30.375  15.864]\n",
      " [ 10.547 -31.171  16.084]\n",
      " [  6.882 -25.633  17.262]\n",
      " [  6.907 -25.206  18.664]\n",
      " [  7.979 -25.982  19.407]\n",
      " [  8.123 -27.172  19.148]\n",
      " [  5.545 -25.474  19.302]\n",
      " [  5.482 -25.117  20.789]\n",
      " [  4.174 -25.673  21.358]\n",
      " [  4.14  -26.875  21.691]\n",
      " [  3.223 -24.877  21.438]\n",
      " [  8.82  -25.289  20.185]\n",
      " [  9.898 -25.982  20.893]\n",
      " [  9.707 -25.705  22.383]\n",
      " [  9.404 -24.56   22.764]\n",
      " [ 11.303 -25.492  20.474]\n",
      " [ 12.369 -26.107  21.383]\n",
      " [ 11.665 -25.894  19.055]\n",
      " [  9.789 -26.75   23.221]\n",
      " [  9.602 -26.499  24.653]]\n"
     ]
    }
   ],
   "source": [
    "print(coords.shape)\n",
    "print(coords)"
   ]
  },
  {
   "cell_type": "code",
   "execution_count": null,
   "metadata": {},
   "outputs": [],
   "source": []
  }
 ],
 "metadata": {
  "kernelspec": {
   "display_name": "Python 2",
   "language": "python",
   "name": "python2"
  },
  "language_info": {
   "codemirror_mode": {
    "name": "ipython",
    "version": 2
   },
   "file_extension": ".py",
   "mimetype": "text/x-python",
   "name": "python",
   "nbconvert_exporter": "python",
   "pygments_lexer": "ipython2",
   "version": "2.7.15"
  }
 },
 "nbformat": 4,
 "nbformat_minor": 2
}
