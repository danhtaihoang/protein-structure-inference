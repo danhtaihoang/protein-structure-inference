{
 "cells": [
  {
   "cell_type": "code",
   "execution_count": 1,
   "metadata": {
    "scrolled": true
   },
   "outputs": [],
   "source": [
    "import pickle\n",
    "import numpy as np\n",
    "#import pandas as pd\n",
    "import Bio\n",
    "from Bio import AlignIO\n",
    "import os, urllib, gzip, re\n",
    "\n",
    "data_dir='test'"
   ]
  },
  {
   "cell_type": "code",
   "execution_count": 2,
   "metadata": {},
   "outputs": [],
   "source": [
    "pfam_current_release = 'ftp://ftp.ebi.ac.uk/pub/databases/Pfam/current_release'"
   ]
  },
  {
   "cell_type": "code",
   "execution_count": 3,
   "metadata": {},
   "outputs": [],
   "source": [
    "files = [\n",
    "        'Pfam-A.full.gz',  # The full alignments of the curated families  (~6GB)\n",
    "        #'pdbmap.gz',  # Mapping between PDB structures and Pfam domains. (~2MB)\n",
    "]"
   ]
  },
  {
   "cell_type": "code",
   "execution_count": 4,
   "metadata": {},
   "outputs": [],
   "source": [
    "# download 'files' from 'pfam_current_release'\n",
    "def downloadfiles():\n",
    "    for f in files:\n",
    "        local = os.path.join(data_dir, f)\n",
    "        remote = os.path.join(pfam_current_release, f)\n",
    "        urllib.urlretrieve(remote, local)   "
   ]
  },
  {
   "cell_type": "code",
   "execution_count": 5,
   "metadata": {},
   "outputs": [],
   "source": [
    "pfam_file = os.path.join(data_dir, 'pfam.npy')\n",
    "\n",
    "pfam = []\n",
    "with gzip.open(os.path.join(data_dir, 'Pfam-A.full.gz'), 'r') as f:\n",
    "    for i, line in enumerate(f):\n",
    "        if line[:7] == '#=GF AC':\n",
    "            ac = line.split(' ')[4][:-1].split('.')[0]\n",
    "            pfam.append([ac, 0, 0, 0])\n",
    "            #pfam.append(ac)\n",
    "      \n",
    "        # 2018.12.03: test\n",
    "        #pfam.append(line)\n",
    "        if i == 50000: break        \n",
    "            \n",
    "pfam = np.array(pfam)\n",
    "np.save(pfam_file, pfam)"
   ]
  },
  {
   "cell_type": "code",
   "execution_count": 6,
   "metadata": {
    "scrolled": true
   },
   "outputs": [
    {
     "name": "stdout",
     "output_type": "stream",
     "text": [
      "(6, 4)\n",
      "[['PF10417' '0' '0' '0']\n",
      " ['PF12574' '0' '0' '0']\n",
      " ['PF09847' '0' '0' '0']\n",
      " ['PF00244' '0' '0' '0']\n",
      " ['PF16998' '0' '0' '0']\n",
      " ['PF00389' '0' '0' '0']]\n"
     ]
    }
   ],
   "source": [
    "print(pfam.shape)\n",
    "print(pfam)"
   ]
  },
  {
   "cell_type": "code",
   "execution_count": 7,
   "metadata": {},
   "outputs": [],
   "source": [
    "# parse multiple sequence alignments file with Biopython\n",
    "alignments = AlignIO.parse(gzip.open(os.path.join(data_dir, 'Pfam-A.full.gz'), 'r'),'stockholm')"
   ]
  },
  {
   "cell_type": "code",
   "execution_count": 8,
   "metadata": {},
   "outputs": [],
   "source": [
    "# for each pfam/msa\n",
    "for i, a in enumerate(alignments):\n",
    "    if i > 0: break  \n",
    "    \n",
    "    # local directory associated with pfam\n",
    "    pfam_dir = os.path.join(data_dir, 'Pfam-A.full', pfam[i, 0])\n",
    "\n",
    "    try:\n",
    "        os.makedirs(pfam_dir)\n",
    "    except:\n",
    "        pass\n",
    "            \n",
    "    # number of residues/sequences in alignment\n",
    "    n_residue = a.get_alignment_length()\n",
    "    n_sequence = len(a)\n",
    "\n",
    "    #------------------------------------------------------------------\n",
    "    # msa: residues symbols\n",
    "    # pdb_refs: references to pdb\n",
    "    msa = np.empty((n_residue, n_sequence), dtype=str)\n",
    "    pdb_refs = []\n",
    "    \n",
    "    # for each sequence in alignment\n",
    "    for j, seq in enumerate(a):\n",
    "        # store residue symbols in lowercase\n",
    "        #msa[:, j] = np.array(seq.seq.lower())\n",
    "        msa[:, j] = np.array(seq.seq)  # 2018.12.03: Tai\n",
    "    \n",
    "        # store uniprot sequence id\n",
    "        uniprot_id, uniprot_start, uniprot_end = re.split('[/-]', seq.id)\n",
    "        \n",
    "        # extract pdb refs if they are present\n",
    "        refs = seq.dbxrefs\n",
    "        if not refs:\n",
    "            continue    \n",
    "        for ref in refs:\n",
    "            ref = ref.replace(' ', '').split(';')\n",
    "            if ref[0] == 'PDB':\n",
    "                pdb_id, chain = ref[1][:-1], ref[1][-1]\n",
    "                pdb_start_end = ref[2].split('-')\n",
    "                if len(pdb_start_end) == 2:\n",
    "                    pdb_start, pdb_end = pdb_start_end\n",
    "                else:\n",
    "                    continue\n",
    "                pdb_refs.append([pfam[i, 0], j - 1, uniprot_id, uniprot_start,\n",
    "                    uniprot_end, pdb_id, chain, pdb_start, pdb_end])\n",
    "                \n",
    "    np.save(os.path.join(pfam_dir,'msa.npy'),msa)\n",
    "    np.save(os.path.join(pfam_dir,'pdb_refs.npy'), pdb_refs)\n",
    "            \n",
    "    n_pdb_ref = len(pdb_refs)\n",
    "    pfam[i, 1:] = n_residue, n_sequence, n_pdb_ref\n",
    "          \n",
    "np.save(pfam_file, pfam)        "
   ]
  },
  {
   "cell_type": "code",
   "execution_count": 9,
   "metadata": {},
   "outputs": [
    {
     "name": "stdout",
     "output_type": "stream",
     "text": [
      "(113, 9746)\n",
      "555\n"
     ]
    }
   ],
   "source": [
    "print(n_residue,n_sequence)\n",
    "print(n_pdb_ref)\n",
    "#print(a)"
   ]
  },
  {
   "cell_type": "code",
   "execution_count": 10,
   "metadata": {},
   "outputs": [
    {
     "name": "stdout",
     "output_type": "stream",
     "text": [
      "[['PF10417' '113' '9746' '555']\n",
      " ['PF12574' '0' '0' '0']\n",
      " ['PF09847' '0' '0' '0']\n",
      " ['PF00244' '0' '0' '0']\n",
      " ['PF16998' '0' '0' '0']\n",
      " ['PF00389' '0' '0' '0']]\n"
     ]
    }
   ],
   "source": [
    "print(pfam)"
   ]
  },
  {
   "cell_type": "code",
   "execution_count": 12,
   "metadata": {},
   "outputs": [
    {
     "data": {
      "text/plain": [
       "['PDB', '3VWUH', '237-255', '']"
      ]
     },
     "execution_count": 12,
     "metadata": {},
     "output_type": "execute_result"
    }
   ],
   "source": [
    "ref"
   ]
  },
  {
   "cell_type": "code",
   "execution_count": 21,
   "metadata": {},
   "outputs": [
    {
     "name": "stdout",
     "output_type": "stream",
     "text": [
      "SingleLetterAlphabet() alignment with 16 rows and 332 columns\n",
      "--------------------------------------------...--- A0A0F3R0S1_ORITS/31-131\n",
      "-------------------------------------------m...--- A0A0F3QXX2_ORITS/1-133\n",
      "--------------------------------------------...--- A0A0F3MK43_9RICK/404-636\n",
      "sssvnqyehnpppvpkraeskqeatglksffkgmfskapeasta...vel Q1RJ37_RICBR/189-408\n",
      "--------------------------------------------...--- A0A0F3MH25_ORITS/577-813\n",
      "----efrdylnskqgrgqaelalqnsgvqaeiqridlegyrsvh...--- A0A2A5BBI9_9RICK/282-487\n",
      "--------------------------------------------...--- H8K5G2_RICAG/113-350\n",
      "--------------------------------------------...--- A0A0F3RQ37_ORITS/508-742\n",
      "------------------------------------------el...--- SCA4_RICPR/102-337\n",
      "---------rqeiiakqqttlknilaeanitaisvtnlainsqq...--- A0A261DCJ7_9RICK/496-744\n",
      "-----------lttstteevvtdagdktkviikpntvntedhki...--- Q1RGU6_RICBR/7-173\n",
      "-------------------------------------------m...--- A0A0F3PKL7_9RICK/1-218\n",
      "--lnndpayseeakdqekfrqflanlnagerqglydkalsdeqf...--- Q1RIG4_RICBR/188-417\n",
      "--------------------------------------lvnksi...--- A0A261DC17_9RICK/186-418\n",
      "--------------------------------------------...--- A0A0F3PNG3_9RICK/1-78\n",
      "--------------------------------------------...--- A5CDE1_ORITB/318-554\n"
     ]
    }
   ],
   "source": [
    "print(a)"
   ]
  },
  {
   "cell_type": "code",
   "execution_count": null,
   "metadata": {},
   "outputs": [],
   "source": []
  }
 ],
 "metadata": {
  "kernelspec": {
   "display_name": "Python 2",
   "language": "python",
   "name": "python2"
  },
  "language_info": {
   "codemirror_mode": {
    "name": "ipython",
    "version": 2
   },
   "file_extension": ".py",
   "mimetype": "text/x-python",
   "name": "python",
   "nbconvert_exporter": "python",
   "pygments_lexer": "ipython2",
   "version": "2.7.15"
  }
 },
 "nbformat": 4,
 "nbformat_minor": 2
}
