{
 "cells": [
  {
   "cell_type": "code",
   "execution_count": 1,
   "metadata": {
    "scrolled": true
   },
   "outputs": [],
   "source": [
    "import pickle\n",
    "import numpy as np\n",
    "#import pandas as pd\n",
    "import Bio\n",
    "from Bio import AlignIO\n",
    "import os, urllib, gzip, re\n",
    "\n",
    "data_dir='test'"
   ]
  },
  {
   "cell_type": "code",
   "execution_count": 2,
   "metadata": {},
   "outputs": [],
   "source": [
    "pfam_current_release = 'ftp://ftp.ebi.ac.uk/pub/databases/Pfam/current_release'"
   ]
  },
  {
   "cell_type": "code",
   "execution_count": 3,
   "metadata": {},
   "outputs": [],
   "source": [
    "files = [\n",
    "        #'Pfam-A.full.gz',  # The full alignments of the curated families (~6GB)\n",
    "        'pdbmap.gz',  # Mapping between PDB structures and Pfam domains. (~2MB)\n",
    "]"
   ]
  },
  {
   "cell_type": "code",
   "execution_count": 4,
   "metadata": {},
   "outputs": [],
   "source": [
    "# download 'files' from 'pfam_current_release'\n",
    "for f in files:\n",
    "    local = os.path.join(data_dir, f)\n",
    "    remote = os.path.join(pfam_current_release, f)\n",
    "    urllib.urlretrieve(remote, local)   "
   ]
  },
  {
   "cell_type": "code",
   "execution_count": null,
   "metadata": {},
   "outputs": [],
   "source": []
  }
 ],
 "metadata": {
  "kernelspec": {
   "display_name": "Python 2",
   "language": "python",
   "name": "python2"
  },
  "language_info": {
   "codemirror_mode": {
    "name": "ipython",
    "version": 2
   },
   "file_extension": ".py",
   "mimetype": "text/x-python",
   "name": "python",
   "nbconvert_exporter": "python",
   "pygments_lexer": "ipython2",
   "version": "2.7.15"
  }
 },
 "nbformat": 4,
 "nbformat_minor": 2
}
