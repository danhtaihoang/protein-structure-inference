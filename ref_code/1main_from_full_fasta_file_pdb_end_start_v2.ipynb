{
 "cells": [
  {
   "cell_type": "code",
   "execution_count": 1,
   "metadata": {},
   "outputs": [],
   "source": [
    "import numpy as np\n",
    "import pandas as pd\n",
    "import os,urllib,gzip,re\n",
    "import matplotlib.pyplot as plt"
   ]
  },
  {
   "cell_type": "code",
   "execution_count": 5,
   "metadata": {},
   "outputs": [
    {
     "name": "stdout",
     "output_type": "stream",
     "text": [
      "(7750, 918)\n",
      "(372, 9)\n"
     ]
    }
   ],
   "source": [
    "# read parse_pfam data:\n",
    "pfam_id = 'PF00186'\n",
    "\n",
    "msa = np.load('%s/msa.npy'%pfam_id).T\n",
    "print(msa.shape)\n",
    "\n",
    "pdb_ref = np.load('%s/pdb_refs.npy'%pfam_id)\n",
    "n_pdb = pdb_ref[0] "
   ]
  },
  {
   "cell_type": "code",
   "execution_count": 26,
   "metadata": {},
   "outputs": [
    {
     "name": "stdout",
     "output_type": "stream",
     "text": [
      "('pdb_start, end:', 1, 160, 160)\n"
     ]
    }
   ],
   "source": [
    "s = msa.copy()\n",
    "\n",
    "ipdb = 0\n",
    "\n",
    "pdb_start,pdb_end = int(pdb_ref[ipdb,7]),int(pdb_ref[ipdb,8])\n",
    "#print('pdb_start, end:',pdb_start,pdb_end,pdb_end-pdb_start+1)\n",
    "\n",
    "# row order in msa corresponding to the pdb\n",
    "t = int(pdb_ref[ipdb,1])\n",
    "\n",
    "#iupper = np.array([i for i, c in enumerate(s[t]) if c.isupper()])\n",
    "upper = np.array([x.isupper() for x in s[t]])"
   ]
  },
  {
   "cell_type": "code",
   "execution_count": 27,
   "metadata": {},
   "outputs": [
    {
     "name": "stdout",
     "output_type": "stream",
     "text": [
      "(7750, 160)\n"
     ]
    }
   ],
   "source": [
    "s_select = s[:,upper]\n",
    "print(s_select.shape)"
   ]
  },
  {
   "cell_type": "code",
   "execution_count": null,
   "metadata": {},
   "outputs": [],
   "source": []
  }
 ],
 "metadata": {
  "kernelspec": {
   "display_name": "Python 2",
   "language": "python",
   "name": "python2"
  },
  "language_info": {
   "codemirror_mode": {
    "name": "ipython",
    "version": 2
   },
   "file_extension": ".py",
   "mimetype": "text/x-python",
   "name": "python",
   "nbconvert_exporter": "python",
   "pygments_lexer": "ipython2",
   "version": "2.7.15"
  }
 },
 "nbformat": 4,
 "nbformat_minor": 2
}
