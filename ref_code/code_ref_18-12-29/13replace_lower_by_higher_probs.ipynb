{
 "cells": [
  {
   "cell_type": "code",
   "execution_count": 1,
   "metadata": {
    "collapsed": true
   },
   "outputs": [],
   "source": [
    "import numpy as np\n",
    "from scipy.stats import itemfreq"
   ]
  },
  {
   "cell_type": "code",
   "execution_count": 2,
   "metadata": {
    "collapsed": false
   },
   "outputs": [
    {
     "name": "stdout",
     "output_type": "stream",
     "text": [
      "[11 12 12 11  4 11 12  5  5 12]\n"
     ]
    }
   ],
   "source": [
    "s = np.array([11,12,12,11,4,11,12,5,5,12])\n",
    "print(s)"
   ]
  },
  {
   "cell_type": "code",
   "execution_count": 3,
   "metadata": {
    "collapsed": true
   },
   "outputs": [],
   "source": [
    "#2018.12.24: replace value at a column with probility of elements in that column\n",
    "def value_with_prob(a,p):\n",
    "    \"\"\" generate a value (in a) with probability\n",
    "    input: a = np.array(['A','B','C','D']) and p = np.array([0.4,0.5,0.05,0.05]) \n",
    "    output: B or A (likely), C or D (unlikely)\n",
    "    \"\"\"\n",
    "    # if no-specific prob --> set as uniform distribution\n",
    "    if p.sum() == 0:\n",
    "        p[:] = 1./a.shape[0] # uniform\n",
    "    else:\n",
    "        p[:] /= p.sum() # normalize\n",
    "\n",
    "    ia = int((p.cumsum() < np.random.rand()).sum()) # cordinate\n",
    "\n",
    "    return a[ia]"
   ]
  },
  {
   "cell_type": "code",
   "execution_count": 4,
   "metadata": {
    "collapsed": false
   },
   "outputs": [],
   "source": [
    "def replace_lower_by_higher_prob(s,p0=0.3):\n",
    "    # input: numpy array, 1 dimension s ; threshold p0\n",
    "    # output: s in which element having p < p0 were placed by elements with p > p0, according to prob\n",
    "\n",
    "    f = itemfreq(s)\n",
    "\n",
    "    # element and number of occurence\n",
    "    a,p = f[:,0],f[:,1]\n",
    "\n",
    "    # probabilities\n",
    "    p = p/float(p.sum()) \n",
    "\n",
    "    \n",
    "    # find elements having p > p0:\n",
    "    iapmax = np.argwhere(p>p0).reshape((-1,))  # position\n",
    "    apmax = a[iapmax].reshape((-1,))           # name of aminoacid\n",
    "    pmax = p[iapmax].reshape((-1,))            # probability\n",
    "    \n",
    "    # find elements having p < p0\n",
    "    apmin = a[np.argwhere(p < p0)].reshape((-1,))\n",
    "\n",
    "    for a in apmin:\n",
    "        ia = np.argwhere(s==a).reshape((-1,))\n",
    "        for iia in ia:\n",
    "            s[iia] = value_with_prob(apmax,pmax)\n",
    "        \n",
    "    return s"
   ]
  },
  {
   "cell_type": "code",
   "execution_count": 5,
   "metadata": {
    "collapsed": false
   },
   "outputs": [
    {
     "name": "stdout",
     "output_type": "stream",
     "text": [
      "[11 12 12 11 12 11 12 12 12 12]\n"
     ]
    }
   ],
   "source": [
    "s = replace_lower_by_higher_prob(s,p0=0.3)\n",
    "print(s)"
   ]
  }
 ],
 "metadata": {
  "kernelspec": {
   "display_name": "Python 2",
   "language": "python",
   "name": "python2"
  },
  "language_info": {
   "codemirror_mode": {
    "name": "ipython",
    "version": 2
   },
   "file_extension": ".py",
   "mimetype": "text/x-python",
   "name": "python",
   "nbconvert_exporter": "python",
   "pygments_lexer": "ipython2",
   "version": "2.7.15"
  }
 },
 "nbformat": 4,
 "nbformat_minor": 2
}
