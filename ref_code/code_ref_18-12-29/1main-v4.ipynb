{
 "cells": [
  {
   "cell_type": "code",
   "execution_count": 1,
   "metadata": {},
   "outputs": [],
   "source": [
    "import sys\n",
    "import numpy as np\n",
    "from scipy import linalg\n",
    "from sklearn.preprocessing import OneHotEncoder\n",
    "\n",
    "import matplotlib.pyplot as plt\n",
    "%matplotlib inline"
   ]
  },
  {
   "cell_type": "code",
   "execution_count": 2,
   "metadata": {},
   "outputs": [],
   "source": [
    "seed = 1\n",
    "np.random.seed(seed)\n",
    "\n",
    "n = 20"
   ]
  },
  {
   "cell_type": "code",
   "execution_count": 3,
   "metadata": {},
   "outputs": [
    {
     "name": "stdout",
     "output_type": "stream",
     "text": [
      "[3 2 2 3 3 2 2 3 2 3 2 4 3 4 2 4 3 4 2 2]\n",
      "55\n",
      "6050\n"
     ]
    }
   ],
   "source": [
    "#mxj = np.array([2,3,2,3,2])\n",
    "mxj = np.random.randint(2,5,size=n)\n",
    "#mxj = np.random.randint(3,4,size=n)\n",
    "print(mxj)\n",
    "\n",
    "mx = mxj.sum()\n",
    "print(mx)\n",
    "\n",
    "my = 3\n",
    "#l = int(4*(mx*my))\n",
    "l = int(2*(mx**2))\n",
    "print(l)"
   ]
  },
  {
   "cell_type": "code",
   "execution_count": 4,
   "metadata": {},
   "outputs": [
    {
     "data": {
      "text/plain": [
       "6050"
      ]
     },
     "execution_count": 4,
     "metadata": {},
     "output_type": "execute_result"
    }
   ],
   "source": [
    "l"
   ]
  },
  {
   "cell_type": "code",
   "execution_count": 5,
   "metadata": {
    "scrolled": false
   },
   "outputs": [],
   "source": [
    "def generate_interaction(mx,my):\n",
    "    g = 2.0\n",
    "    #w = np.random.normal(0,g/np.sqrt(mx*my),size=(mx,my))\n",
    "    w = np.random.normal(0,g/np.sqrt(mx),size=(mx,my))\n",
    "    #w -= w.mean(axis=0)[np.newaxis,:] # sum of interactions wji from every j to each state i is 1\n",
    "    w -= w.mean(axis=1)[:,np.newaxis]\n",
    "    \n",
    "    #symmetry\n",
    "    #for i in range(mx):\n",
    "    #    for j in range(my):\n",
    "    #        if j > i: w[i,j] = w[j,i] \n",
    "        \n",
    "    return w"
   ]
  },
  {
   "cell_type": "code",
   "execution_count": 6,
   "metadata": {
    "scrolled": true
   },
   "outputs": [],
   "source": [
    "w0 = generate_interaction(mx,my)"
   ]
  },
  {
   "cell_type": "code",
   "execution_count": 7,
   "metadata": {},
   "outputs": [
    {
     "name": "stdout",
     "output_type": "stream",
     "text": [
      "[0. 0. 0.]\n"
     ]
    }
   ],
   "source": [
    "h0 = np.zeros(my)\n",
    "#h0 = np.random.normal(0.0,1./np.sqrt(mx),size=my)\n",
    "h0 -= h0.mean()\n",
    "print(h0)"
   ]
  },
  {
   "cell_type": "code",
   "execution_count": 8,
   "metadata": {
    "scrolled": true
   },
   "outputs": [
    {
     "name": "stdout",
     "output_type": "stream",
     "text": [
      "(6050, 20)\n"
     ]
    }
   ],
   "source": [
    "x0 = np.hstack([np.random.randint(mxj[j],size=(l,1)) for j in range(n)])\n",
    "print(x0.shape)"
   ]
  },
  {
   "cell_type": "code",
   "execution_count": 9,
   "metadata": {
    "scrolled": true
   },
   "outputs": [
    {
     "name": "stdout",
     "output_type": "stream",
     "text": [
      "(6050, 55)\n"
     ]
    }
   ],
   "source": [
    "onehot_encoder = OneHotEncoder(sparse=False)\n",
    "x = onehot_encoder.fit_transform(x0)\n",
    "print(x.shape)\n",
    "#print(x)"
   ]
  },
  {
   "cell_type": "code",
   "execution_count": 10,
   "metadata": {},
   "outputs": [
    {
     "name": "stdout",
     "output_type": "stream",
     "text": [
      "(6050,)\n",
      "(6050, 3)\n"
     ]
    }
   ],
   "source": [
    "y0 = np.random.randint(my,size=l)\n",
    "print(y0.shape)\n",
    "\n",
    "onehot_encoder = OneHotEncoder(sparse=False)\n",
    "y = onehot_encoder.fit_transform(y0[:,np.newaxis])\n",
    "print(y.shape)\n",
    "\n",
    "nrepeat = 2*(n*my)\n",
    "for irepeat in range(nrepeat):\n",
    "    for i in range(my):\n",
    "        h = h0[np.newaxis,:] + x.dot(w0)\n",
    "\n",
    "        k0 = np.argmax(y,axis=1)\n",
    "        for t in range(l):\n",
    "            k = np.random.randint(my)                \n",
    "            while k == k0[t]:\n",
    "                k = np.random.randint(0,my)\n",
    "\n",
    "            if np.exp(h[t,k] - h[t,k0[t]]) > np.random.rand():\n",
    "                y[t,:],y[t,k] = 0.,1."
   ]
  },
  {
   "cell_type": "code",
   "execution_count": 11,
   "metadata": {},
   "outputs": [],
   "source": [
    "def fit(x,y,nloop=40):    \n",
    "    #----------------------------------------------------------------\n",
    "    # covariance[ia,ib]\n",
    "    cab_inv = np.empty((my,my,mx,mx))\n",
    "    eps = np.empty((my,my,l))\n",
    "\n",
    "    for ia in range(my):\n",
    "        #print(ia)\n",
    "        for ib in range(my):\n",
    "            if ib != ia:\n",
    "                #print(ia,ib)\n",
    "                eps[ia,ib,:] = y[:,ia] - y[:,ib]\n",
    "\n",
    "                which_ab = eps[ia,ib,:] !=0.                    \n",
    "                xab = x[which_ab]          \n",
    "                # ----------------------------\n",
    "                xab_av = np.mean(xab,axis=0)\n",
    "                dxab = xab - xab_av\n",
    "                cab = np.cov(dxab,rowvar=False,bias=True)\n",
    "                #print(cab)\n",
    "\n",
    "                cab_inv[ia,ib,:,:] = linalg.pinv(cab,rcond=1e-15)    \n",
    "    #----------------------------------------------------------------\n",
    "    \n",
    "    w = np.random.normal(0.0,1./np.sqrt(mx),size=(mx,my))\n",
    "    h0 = np.random.normal(0.0,1./np.sqrt(mx),size=my)\n",
    "    \n",
    "    cost = np.full(nloop,100.) \n",
    "    for iloop in range(nloop):\n",
    "        h = h0[np.newaxis,:] + x.dot(w)\n",
    "\n",
    "        # stopping criterion --------------------\n",
    "        p = np.exp(h)\n",
    "        p /= p.sum(axis=1)[:,np.newaxis]\n",
    "\n",
    "        cost[iloop] = ((y - p)**2).mean()\n",
    "        if iloop > 1 and cost[iloop] >= cost[iloop-1]: break\n",
    "        #-----------------------------------------    \n",
    "\n",
    "        for ia in range(my):\n",
    "            wa = np.zeros(mx)\n",
    "            ha0 = 0.\n",
    "            for ib in range(my):\n",
    "                if ib != ia:\n",
    "\n",
    "                    which_ab = eps[ia,ib,:] !=0.\n",
    "\n",
    "                    eps_ab = eps[ia,ib,which_ab]\n",
    "                    xab = x[which_ab]\n",
    "\n",
    "                    # ----------------------------\n",
    "                    xab_av = xab.mean(axis=0)\n",
    "                    dxab = xab - xab_av\n",
    "\n",
    "                    h_ab = h[which_ab,ia] - h[which_ab,ib]\n",
    "\n",
    "                    which_non_zero = h_ab!=0\n",
    "                    ha = eps_ab[which_non_zero]*h_ab[which_non_zero]/np.tanh(h_ab[which_non_zero]/2.)\n",
    "\n",
    "                    dhdx = dxab*((ha - ha.mean())[:,np.newaxis])\n",
    "                    dhdx_av = dhdx.mean(axis=0)\n",
    "\n",
    "                    wab = cab_inv[ia,ib,:,:].dot(dhdx_av)   # wa - wb\n",
    "                    h0ab = ha.mean() - xab_av.dot(wab)      # ha0 - hb0\n",
    "\n",
    "                    wa += wab\n",
    "                    ha0 += h0ab\n",
    "\n",
    "            w[:,ia] = wa/my\n",
    "            h0[ia] = ha0/my\n",
    "    return w,h0            "
   ]
  },
  {
   "cell_type": "code",
   "execution_count": 12,
   "metadata": {},
   "outputs": [],
   "source": [
    "w,h0_infer = fit(x,y,nloop=40)"
   ]
  },
  {
   "cell_type": "code",
   "execution_count": 15,
   "metadata": {},
   "outputs": [
    {
     "data": {
      "image/png": "[encoded data removed]",
      "text/plain": [
       "<Figure size 432x288 with 1 Axes>"
      ]
     },
     "metadata": {},
     "output_type": "display_data"
    }
   ],
   "source": [
    "plt.scatter(w0,w)\n",
    "plt.plot([-1.,1.],[-1.,1.0],'r--')\n",
    "plt.show()"
   ]
  },
  {
   "cell_type": "code",
   "execution_count": 16,
   "metadata": {},
   "outputs": [
    {
     "data": {
      "image/png": "[encoded data removed]",
      "text/plain": [
       "<Figure size 432x288 with 1 Axes>"
      ]
     },
     "metadata": {},
     "output_type": "display_data"
    }
   ],
   "source": [
    "plt.scatter(h0,h0_infer)\n",
    "plt.plot([-0.25,0.25],[-0.25,0.25],'r--')\n",
    "plt.show()"
   ]
  },
  {
   "cell_type": "code",
   "execution_count": null,
   "metadata": {},
   "outputs": [],
   "source": []
  }
 ],
 "metadata": {
  "kernelspec": {
   "display_name": "Python 2",
   "language": "python",
   "name": "python2"
  },
  "language_info": {
   "codemirror_mode": {
    "name": "ipython",
    "version": 2
   },
   "file_extension": ".py",
   "mimetype": "text/x-python",
   "name": "python",
   "nbconvert_exporter": "python",
   "pygments_lexer": "ipython2",
   "version": "2.7.15"
  }
 },
 "nbformat": 4,
 "nbformat_minor": 2
}
