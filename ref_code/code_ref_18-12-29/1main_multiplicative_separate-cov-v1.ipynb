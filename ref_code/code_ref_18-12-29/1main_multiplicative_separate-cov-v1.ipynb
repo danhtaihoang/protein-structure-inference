{
 "cells": [
  {
   "cell_type": "markdown",
   "metadata": {},
   "source": [
    "# Network inference of categorical variables: non-sequential data"
   ]
  },
  {
   "cell_type": "code",
   "execution_count": 1,
   "metadata": {
    "collapsed": true
   },
   "outputs": [],
   "source": [
    "import sys\n",
    "import numpy as np\n",
    "from scipy import linalg\n",
    "from sklearn.preprocessing import OneHotEncoder\n",
    "\n",
    "import matplotlib.pyplot as plt\n",
    "%matplotlib inline\n",
    "\n",
    "import inference"
   ]
  },
  {
   "cell_type": "code",
   "execution_count": 2,
   "metadata": {
    "collapsed": true,
    "scrolled": true
   },
   "outputs": [],
   "source": [
    "# setting parameter:\n",
    "np.random.seed(1)\n",
    "\n",
    "n = 20 # number of positions\n",
    "m = 5 # number of values at each position\n",
    "l = int(1*((n*m)**2)) # number of samples\n",
    "g = 2.\n",
    "\n",
    "sp = 0.5 # degree of sparsity\n",
    "nm = n*m"
   ]
  },
  {
   "cell_type": "code",
   "execution_count": 3,
   "metadata": {
    "collapsed": true
   },
   "outputs": [],
   "source": [
    "w_true = inference.generate_interactions(n,m,g,sp)"
   ]
  },
  {
   "cell_type": "code",
   "execution_count": 4,
   "metadata": {
    "collapsed": true
   },
   "outputs": [],
   "source": [
    "h0_true = inference.generate_external_local_field(n,m,g)"
   ]
  },
  {
   "cell_type": "code",
   "execution_count": 5,
   "metadata": {
    "collapsed": false,
    "scrolled": true
   },
   "outputs": [
    {
     "name": "stdout",
     "output_type": "stream",
     "text": [
      "('irepeat:', 0)\n",
      "('irepeat:', 20)\n",
      "('irepeat:', 40)\n",
      "('irepeat:', 60)\n",
      "('irepeat:', 80)\n"
     ]
    }
   ],
   "source": [
    "s = inference.generate_sequences(w_true,h0_true,n,m,l)"
   ]
  },
  {
   "cell_type": "code",
   "execution_count": 6,
   "metadata": {
    "collapsed": false,
    "scrolled": true
   },
   "outputs": [
    {
     "data": {
      "text/plain": [
       "(10000, 100)"
      ]
     },
     "execution_count": 6,
     "metadata": {},
     "output_type": "execute_result"
    }
   ],
   "source": [
    "s.shape"
   ]
  },
  {
   "cell_type": "code",
   "execution_count": 23,
   "metadata": {
    "collapsed": false
   },
   "outputs": [],
   "source": [
    "np.savetxt('s.txt',s,fmt='%i')"
   ]
  },
  {
   "cell_type": "code",
   "execution_count": 13,
   "metadata": {
    "collapsed": true
   },
   "outputs": [],
   "source": [
    "def cov_inv(x,y):\n",
    "    l,mx = x.shape\n",
    "    my = y.shape[1]\n",
    "    cab_inv = np.empty((my,my,mx,mx))\n",
    "    \n",
    "    for ia in range(my):\n",
    "        #print(ia)\n",
    "        for ib in range(my):\n",
    "            if ib != ia:\n",
    "                eps = y[:,ia] - y[:,ib]\n",
    "\n",
    "                which_ab = eps !=0.                    \n",
    "                xab = x[which_ab]          \n",
    "                xab_av = np.mean(xab,axis=0)\n",
    "                dxab = xab - xab_av\n",
    "                cab = np.cov(dxab,rowvar=False,bias=True)\n",
    "\n",
    "                cab_inv[ia,ib,:,:] = linalg.pinv(cab,rcond=1e-15)    \n",
    "                \n",
    "    return cab_inv"
   ]
  },
  {
   "cell_type": "code",
   "execution_count": 14,
   "metadata": {
    "collapsed": true
   },
   "outputs": [],
   "source": [
    "def fit(x,y,cab_inv,nloop=20):\n",
    "    l,mx = x.shape\n",
    "    my = y.shape[1]\n",
    "        \n",
    "    w = np.random.normal(0.0,1./np.sqrt(mx),size=(mx,my))\n",
    "    h0 = np.random.normal(0.0,1./np.sqrt(mx),size=my)\n",
    "    \n",
    "    cost = np.full(nloop,100.) \n",
    "    for iloop in range(nloop):\n",
    "        h = h0[np.newaxis,:] + x.dot(w)\n",
    "\n",
    "        # stopping criterion --------------------\n",
    "        p = np.exp(h)\n",
    "        p /= p.sum(axis=1)[:,np.newaxis]\n",
    "\n",
    "        cost[iloop] = ((y - p)**2).mean()\n",
    "        if iloop > 1 and cost[iloop] >= cost[iloop-1]: break\n",
    "        #-----------------------------------------    \n",
    "\n",
    "        for ia in range(my):\n",
    "            wa = np.zeros(mx)\n",
    "            ha0 = 0.\n",
    "            for ib in range(my):\n",
    "                if ib != ia:\n",
    "                    eps = y[:,ia] - y[:,ib]\n",
    "                    which_ab = eps!=0.\n",
    "\n",
    "                    eps_ab = eps[which_ab]\n",
    "                    xab = x[which_ab]\n",
    "\n",
    "                    # ----------------------------\n",
    "                    xab_av = xab.mean(axis=0)\n",
    "                    dxab = xab - xab_av\n",
    "\n",
    "                    h_ab = h[which_ab,ia] - h[which_ab,ib]\n",
    "\n",
    "                    which_non_zero = h_ab!=0\n",
    "                    ha = eps_ab[which_non_zero]*h_ab[which_non_zero]/np.tanh(h_ab[which_non_zero]/2.)\n",
    "\n",
    "                    dhdx = dxab*((ha - ha.mean())[:,np.newaxis])\n",
    "                    dhdx_av = dhdx.mean(axis=0)\n",
    "\n",
    "                    wab = cab_inv[ia,ib,:,:].dot(dhdx_av)   # wa - wb\n",
    "                    h0ab = ha.mean() - xab_av.dot(wab)      # ha0 - hb0\n",
    "\n",
    "                    wa += wab\n",
    "                    ha0 += h0ab\n",
    "\n",
    "            w[:,ia] = wa/my\n",
    "            h0[ia] = ha0/my\n",
    "    return w,h0            "
   ]
  },
  {
   "cell_type": "code",
   "execution_count": 15,
   "metadata": {
    "collapsed": true
   },
   "outputs": [],
   "source": [
    "mx = np.random.randint(5,6,size=n)\n",
    "\n",
    "mx_cumsum = np.insert(mx.cumsum(),0,0)\n",
    "i1i2 = np.stack([mx_cumsum[:-1],mx_cumsum[1:]]).T"
   ]
  },
  {
   "cell_type": "code",
   "execution_count": 16,
   "metadata": {
    "collapsed": true
   },
   "outputs": [],
   "source": [
    "my = np.random.randint(5,6,size=n)"
   ]
  },
  {
   "cell_type": "code",
   "execution_count": 17,
   "metadata": {
    "collapsed": false
   },
   "outputs": [
    {
     "name": "stdout",
     "output_type": "stream",
     "text": [
      "(100, 100)\n"
     ]
    }
   ],
   "source": [
    "mx_sum = mx.sum()\n",
    "my_sum = my.sum()\n",
    "print(mx_sum,my_sum)"
   ]
  },
  {
   "cell_type": "code",
   "execution_count": 18,
   "metadata": {
    "collapsed": false
   },
   "outputs": [
    {
     "name": "stdout",
     "output_type": "stream",
     "text": [
      "0\n",
      "1\n",
      "2\n",
      "3\n",
      "4\n",
      "5\n",
      "6\n",
      "7\n",
      "8\n",
      "9\n",
      "10\n",
      "11\n",
      "12\n",
      "13\n",
      "14\n",
      "15\n",
      "16\n",
      "17\n",
      "18\n",
      "19\n"
     ]
    }
   ],
   "source": [
    "w_infer = np.zeros((mx_sum,my_sum))\n",
    "h0_infer = np.zeros(my_sum)\n",
    "\n",
    "for i in range(n):\n",
    "    print(i)\n",
    "    \n",
    "    i1,i2 = i1i2[i,0],i1i2[i,1]\n",
    "\n",
    "    x = np.hstack([s[:,:i1],s[:,i2:]])\n",
    "    y = s[:,i1:i2]\n",
    "    \n",
    "    cab_inv = cov_inv(x,y)    \n",
    "    w,h0 = fit(x,y,cab_inv,nloop=20)\n",
    "    \n",
    "    w_infer[:i1,i1:i2] = w[:i1,:]\n",
    "    w_infer[i2:,i1:i2] = w[i1:,:]\n",
    "    h0_infer[i1:i2] = h0    "
   ]
  },
  {
   "cell_type": "code",
   "execution_count": 19,
   "metadata": {
    "collapsed": false
   },
   "outputs": [
    {
     "data": {
      "image/png": "[encoded data removed]",
      "text/plain": [
       "<matplotlib.figure.Figure at 0x7f527543ee50>"
      ]
     },
     "metadata": {},
     "output_type": "display_data"
    }
   ],
   "source": [
    "plt.figure(figsize=(3.2,3.2))\n",
    "\n",
    "plt.plot([-1.,1.],[-1.,1.],'r--')\n",
    "plt.scatter(w_true,w_infer,marker='o',s=5)\n",
    "plt.xlabel('actual couplings')\n",
    "plt.ylabel('inferred couplings')\n",
    "\n",
    "plt.show()"
   ]
  },
  {
   "cell_type": "code",
   "execution_count": 20,
   "metadata": {
    "collapsed": false
   },
   "outputs": [
    {
     "data": {
      "image/png": "[encoded data removed]",
      "text/plain": [
       "<matplotlib.figure.Figure at 0x7f5275409f10>"
      ]
     },
     "metadata": {},
     "output_type": "display_data"
    }
   ],
   "source": [
    "plt.figure(figsize=(3.2,3.2))\n",
    "\n",
    "plt.plot([-1.,1.],[-1.,1.],'r--')\n",
    "plt.scatter(h0_true,h0_infer,marker='o',s=5)\n",
    "plt.xlabel('actual h0')\n",
    "plt.ylabel('inferred h0')\n",
    "\n",
    "plt.show()"
   ]
  },
  {
   "cell_type": "code",
   "execution_count": null,
   "metadata": {
    "collapsed": true
   },
   "outputs": [],
   "source": []
  }
 ],
 "metadata": {
  "kernelspec": {
   "display_name": "Python 2",
   "language": "python",
   "name": "python2"
  },
  "language_info": {
   "codemirror_mode": {
    "name": "ipython",
    "version": 2
   },
   "file_extension": ".py",
   "mimetype": "text/x-python",
   "name": "python",
   "nbconvert_exporter": "python",
   "pygments_lexer": "ipython2",
   "version": "2.7.15"
  }
 },
 "nbformat": 4,
 "nbformat_minor": 2
}
