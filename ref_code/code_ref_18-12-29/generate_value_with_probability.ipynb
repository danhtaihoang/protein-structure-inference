{
 "cells": [
  {
   "cell_type": "code",
   "execution_count": 1,
   "metadata": {
    "collapsed": true
   },
   "outputs": [],
   "source": [
    "import numpy as np"
   ]
  },
  {
   "cell_type": "code",
   "execution_count": 2,
   "metadata": {
    "collapsed": false
   },
   "outputs": [],
   "source": [
    "# generate value in a according probability\n",
    "# input: a = np.array(['A','B','C','D']) and p = np.array([0.4,0.5,0.05,0.05]) \n",
    "# output: B or A (likely), C or D (unlikely)\n",
    "def value_with_prob(a,p):\n",
    "    \n",
    "    # if no-specific prob --> set as uniform distribution\n",
    "    if p.sum() == 0:\n",
    "        p[:] = 1./a.shape[0]\n",
    "    else:\n",
    "        p[:] = 1./p.sum()\n",
    "        \n",
    "    pcumsum = p.cumsum()\n",
    "    ia = int((pcumsum < np.random.uniform()).sum())\n",
    "    return a[ia]"
   ]
  },
  {
   "cell_type": "code",
   "execution_count": 3,
   "metadata": {
    "collapsed": false
   },
   "outputs": [
    {
     "name": "stdout",
     "output_type": "stream",
     "text": [
      "A\n"
     ]
    }
   ],
   "source": [
    "a = np.array(['A','B','C','D'])\n",
    "p = np.array([0.3,0.5,0.15,0.05]) \n",
    "#p = np.array([0.,0.,0.,0.]) \n",
    "\n",
    "y = value_with_prob(a,p)\n",
    "print(y)"
   ]
  }
 ],
 "metadata": {
  "kernelspec": {
   "display_name": "Python 2",
   "language": "python",
   "name": "python2"
  },
  "language_info": {
   "codemirror_mode": {
    "name": "ipython",
    "version": 2
   },
   "file_extension": ".py",
   "mimetype": "text/x-python",
   "name": "python",
   "nbconvert_exporter": "python",
   "pygments_lexer": "ipython2",
   "version": "2.7.15"
  }
 },
 "nbformat": 4,
 "nbformat_minor": 2
}
