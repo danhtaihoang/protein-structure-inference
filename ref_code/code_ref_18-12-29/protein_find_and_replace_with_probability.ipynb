{
 "cells": [
  {
   "cell_type": "code",
   "execution_count": 1,
   "metadata": {
    "collapsed": true
   },
   "outputs": [],
   "source": [
    "import numpy as np"
   ]
  },
  {
   "cell_type": "code",
   "execution_count": 2,
   "metadata": {
    "collapsed": true
   },
   "outputs": [],
   "source": [
    "def value_with_prob(a,p):\n",
    "    \"\"\" generate a value (in a) with probability\n",
    "    input: a = np.array(['A','B','C','D']) and p = np.array([0.4,0.5,0.05,0.05]) \n",
    "    output: B or A (likely), C or D (unlikely)\n",
    "    \"\"\"\n",
    "    # if no-specific prob --> set as uniform distribution\n",
    "    if p.sum() == 0:\n",
    "        p[:] = 1./a.shape[0] # uniform\n",
    "    else:\n",
    "        p[:] /= p.sum() # normalize\n",
    "\n",
    "    ia = int((p.cumsum() < np.random.rand()).sum()) # cordinate\n",
    "\n",
    "    return a[ia]"
   ]
  },
  {
   "cell_type": "code",
   "execution_count": 3,
   "metadata": {
    "collapsed": false
   },
   "outputs": [],
   "source": [
    "def find_and_replace(s,z,a):\n",
    "    \"\"\" find posistions of s having z and replace by a with a probality of elements in s column\n",
    "    input: s = np.array([['A','Q','A'],['A','E','C'],['Z','Q','A'],['A','Z','-']])\n",
    "           z = 'Z' , a = np.array(['Q','E'])    \n",
    "    output: s = np.array([['A','Q','A'],['A','E','C'],['E','Q','A'],['A','Q','-']]           \n",
    "    \"\"\"  \n",
    "    z_pos = (s == z)\n",
    "    xy = np.argwhere(s == z)\n",
    "    #print(xy)\n",
    "\n",
    "    for it in range(xy.shape[0]):\n",
    "        t,i = xy[it,0],xy[it,1]\n",
    "\n",
    "        na = a.shape[0]\n",
    "        p = np.zeros(na)    \n",
    "        for ii in range(na):\n",
    "            p[ii] = (s[:,i] == a[ii]).sum()\n",
    "\n",
    "        s[t,i] = value_with_prob(a, p)\n",
    "    return s                "
   ]
  },
  {
   "cell_type": "code",
   "execution_count": 4,
   "metadata": {
    "collapsed": false
   },
   "outputs": [
    {
     "name": "stdout",
     "output_type": "stream",
     "text": [
      "[['X' 'Q' 'A']\n",
      " ['B' 'E' 'C']\n",
      " ['Z' 'Q' 'A']\n",
      " ['A' 'Z' '-']]\n"
     ]
    }
   ],
   "source": [
    "s = np.array([['X','Q','A'],['B','E','C'],['Z','Q','A'],['A','Z','-']])\n",
    "print(s)"
   ]
  },
  {
   "cell_type": "code",
   "execution_count": 5,
   "metadata": {
    "collapsed": false
   },
   "outputs": [
    {
     "name": "stdout",
     "output_type": "stream",
     "text": [
      "[['X' 'Q' 'A']\n",
      " ['B' 'E' 'C']\n",
      " ['E' 'Q' 'A']\n",
      " ['A' 'Q' '-']]\n"
     ]
    }
   ],
   "source": [
    "# replace 'Z' by 'Q' or 'E' with prob\n",
    "s = find_and_replace(s,'Z',np.array(['Q','E']))\n",
    "print(s)"
   ]
  },
  {
   "cell_type": "code",
   "execution_count": 6,
   "metadata": {
    "collapsed": false
   },
   "outputs": [
    {
     "name": "stdout",
     "output_type": "stream",
     "text": [
      "[['X' 'Q' 'A']\n",
      " ['D' 'E' 'C']\n",
      " ['E' 'Q' 'A']\n",
      " ['A' 'Q' '-']]\n"
     ]
    }
   ],
   "source": [
    "# replace 'B' by Asparagine (N) or Aspartic (D)\n",
    "s = find_and_replace(s,'B',np.array(['N','D']))\n",
    "print(s)"
   ]
  },
  {
   "cell_type": "code",
   "execution_count": 7,
   "metadata": {
    "collapsed": false
   },
   "outputs": [
    {
     "name": "stdout",
     "output_type": "stream",
     "text": [
      "[['E' 'Q' 'A']\n",
      " ['D' 'E' 'C']\n",
      " ['E' 'Q' 'A']\n",
      " ['A' 'Q' '-']]\n"
     ]
    }
   ],
   "source": [
    "# replace x as a amino acids with prob\n",
    "amino_acids = np.array(['A','C','D','E','F','G','H','I','K','L','M','N','P','Q','R','S',\\\n",
    "'T','V','W','Y'])\n",
    "s = find_and_replace(s,'X',amino_acids)\n",
    "print(s)"
   ]
  },
  {
   "cell_type": "code",
   "execution_count": 8,
   "metadata": {
    "collapsed": false
   },
   "outputs": [
    {
     "name": "stdout",
     "output_type": "stream",
     "text": [
      "[['E' 'Q' 'A']\n",
      " ['D' 'E' 'C']\n",
      " ['E' 'Q' 'A']\n",
      " ['A' 'Q' 'A']]\n"
     ]
    }
   ],
   "source": [
    "# replace gap (-) as a amino acids with prob\n",
    "amino_acids = np.array(['A','C','D','E','F','G','H','I','K','L','M','N','P','Q','R','S',\\\n",
    "'T','V','W','Y'])\n",
    "s = find_and_replace(s,'-',amino_acids)\n",
    "print(s)"
   ]
  },
  {
   "cell_type": "code",
   "execution_count": null,
   "metadata": {
    "collapsed": true
   },
   "outputs": [],
   "source": []
  }
 ],
 "metadata": {
  "kernelspec": {
   "display_name": "Python 2",
   "language": "python",
   "name": "python2"
  },
  "language_info": {
   "codemirror_mode": {
    "name": "ipython",
    "version": 2
   },
   "file_extension": ".py",
   "mimetype": "text/x-python",
   "name": "python",
   "nbconvert_exporter": "python",
   "pygments_lexer": "ipython2",
   "version": "2.7.15"
  }
 },
 "nbformat": 4,
 "nbformat_minor": 2
}
