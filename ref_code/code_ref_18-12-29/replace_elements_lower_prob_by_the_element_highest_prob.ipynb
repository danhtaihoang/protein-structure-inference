{
 "cells": [
  {
   "cell_type": "code",
   "execution_count": 1,
   "metadata": {
    "collapsed": true
   },
   "outputs": [],
   "source": [
    "import numpy as np\n",
    "from scipy.stats import itemfreq"
   ]
  },
  {
   "cell_type": "code",
   "execution_count": 2,
   "metadata": {
    "collapsed": false,
    "scrolled": true
   },
   "outputs": [
    {
     "name": "stdout",
     "output_type": "stream",
     "text": [
      "[11 12 12 11  4 11  5  5 12]\n"
     ]
    }
   ],
   "source": [
    "s = np.array([11,12,12,11,4,11,5,5,12])\n",
    "print(s)"
   ]
  },
  {
   "cell_type": "code",
   "execution_count": 3,
   "metadata": {
    "collapsed": false
   },
   "outputs": [],
   "source": [
    "def replace_lower_by_highest_prob(s,p0=0.3):\n",
    "# input: numpy array, 1 dimension s ; threshold p0\n",
    "# output: s in which element having p < p0 were placed by element with highest p\n",
    "    f = itemfreq(s)\n",
    "    i,p = f[:,0],f[:,1] # element and number of occurence\n",
    "\n",
    "    p = p/float(p.sum()) # probabilities\n",
    "\n",
    "    # find element having highest probability\n",
    "    ipmax = i[np.argmax(p)]\n",
    "\n",
    "    # find elements having lower probability than threshold p0\n",
    "    ipmin = i[np.argwhere(p < p0)]\n",
    "\n",
    "    # replace\n",
    "    for ii in ipmin:\n",
    "        s[np.argwhere(s==ii)] = ipmax\n",
    "    \n",
    "    return s"
   ]
  },
  {
   "cell_type": "code",
   "execution_count": 4,
   "metadata": {
    "collapsed": false
   },
   "outputs": [
    {
     "name": "stdout",
     "output_type": "stream",
     "text": [
      "[11 12 12 11 11 11 11 11 12]\n"
     ]
    }
   ],
   "source": [
    "s = replace_lower_by_highest_prob(s,p0=0.3)\n",
    "print(s)"
   ]
  }
 ],
 "metadata": {
  "kernelspec": {
   "display_name": "Python 2",
   "language": "python",
   "name": "python2"
  },
  "language_info": {
   "codemirror_mode": {
    "name": "ipython",
    "version": 2
   },
   "file_extension": ".py",
   "mimetype": "text/x-python",
   "name": "python",
   "nbconvert_exporter": "python",
   "pygments_lexer": "ipython2",
   "version": "2.7.15"
  }
 },
 "nbformat": 4,
 "nbformat_minor": 2
}
